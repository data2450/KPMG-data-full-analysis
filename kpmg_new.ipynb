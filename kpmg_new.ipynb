{
  "nbformat": 4,
  "nbformat_minor": 0,
  "metadata": {
    "colab": {
      "name": "kpmg_new.ipynb",
      "provenance": [],
      "authorship_tag": "ABX9TyODHdH0a2rIv+NH98Q2wZds",
      "include_colab_link": true
    },
    "kernelspec": {
      "name": "python3",
      "display_name": "Python 3"
    }
  },
  "cells": [
    {
      "cell_type": "markdown",
      "metadata": {
        "id": "view-in-github",
        "colab_type": "text"
      },
      "source": [
        "<a href=\"https://colab.research.google.com/github/data2450/KPMG-data-full-analysis/blob/main/kpmg_new.ipynb\" target=\"_parent\"><img src=\"https://colab.research.google.com/assets/colab-badge.svg\" alt=\"Open In Colab\"/></a>"
      ]
    },
    {
      "cell_type": "code",
      "metadata": {
        "id": "svsVPGHOB-9Q"
      },
      "source": [
        "import pandas as pd\n",
        "import numpy as np\n",
        "import matplotlib as plt\n",
        "import seaborn as sns"
      ],
      "execution_count": 1,
      "outputs": []
    },
    {
      "cell_type": "code",
      "metadata": {
        "id": "omul-hFEG1Dl"
      },
      "source": [
        "url='https://raw.githubusercontent.com/data2450/KPMG-data-full-analysis/main/kpmg_new.csv'"
      ],
      "execution_count": 2,
      "outputs": []
    },
    {
      "cell_type": "code",
      "metadata": {
        "id": "hV5fs_5RGkYe"
      },
      "source": [
        "fulldata=pd.read_csv(url)"
      ],
      "execution_count": 3,
      "outputs": []
    },
    {
      "cell_type": "code",
      "metadata": {
        "id": "83ZS2qGZHSq1",
        "outputId": "77d76df4-9ecc-4111-a3c3-1d7c2914afaf",
        "colab": {
          "base_uri": "https://localhost:8080/",
          "height": 305
        }
      },
      "source": [
        "fulldata.head()"
      ],
      "execution_count": 4,
      "outputs": [
        {
          "output_type": "execute_result",
          "data": {
            "text/html": [
              "<div>\n",
              "<style scoped>\n",
              "    .dataframe tbody tr th:only-of-type {\n",
              "        vertical-align: middle;\n",
              "    }\n",
              "\n",
              "    .dataframe tbody tr th {\n",
              "        vertical-align: top;\n",
              "    }\n",
              "\n",
              "    .dataframe thead th {\n",
              "        text-align: right;\n",
              "    }\n",
              "</style>\n",
              "<table border=\"1\" class=\"dataframe\">\n",
              "  <thead>\n",
              "    <tr style=\"text-align: right;\">\n",
              "      <th></th>\n",
              "      <th>customer_id</th>\n",
              "      <th>first_name</th>\n",
              "      <th>last_name</th>\n",
              "      <th>gender</th>\n",
              "      <th>past_3_years_bike_related_purchases</th>\n",
              "      <th>DOB</th>\n",
              "      <th>job_title</th>\n",
              "      <th>job_industry_category</th>\n",
              "      <th>wealth_segment</th>\n",
              "      <th>deceased_indicator</th>\n",
              "      <th>owns_car</th>\n",
              "      <th>tenure</th>\n",
              "      <th>age</th>\n",
              "      <th>transaction_id</th>\n",
              "      <th>product_id</th>\n",
              "      <th>transaction_date</th>\n",
              "      <th>online_order</th>\n",
              "      <th>order_status</th>\n",
              "      <th>brand</th>\n",
              "      <th>product_line</th>\n",
              "      <th>product_class</th>\n",
              "      <th>product_size</th>\n",
              "      <th>list_price</th>\n",
              "      <th>standard_cost</th>\n",
              "      <th>product_first_sold_date</th>\n",
              "      <th>profit</th>\n",
              "      <th>constant_d</th>\n",
              "      <th>Recency</th>\n",
              "    </tr>\n",
              "  </thead>\n",
              "  <tbody>\n",
              "    <tr>\n",
              "      <th>0</th>\n",
              "      <td>1</td>\n",
              "      <td>Laraine</td>\n",
              "      <td>Medendorp</td>\n",
              "      <td>Female</td>\n",
              "      <td>93</td>\n",
              "      <td>1953-10-12</td>\n",
              "      <td>Executive Secretary</td>\n",
              "      <td>Health</td>\n",
              "      <td>Mass Customer</td>\n",
              "      <td>N</td>\n",
              "      <td>Yes</td>\n",
              "      <td>11.0</td>\n",
              "      <td>66.0</td>\n",
              "      <td>94</td>\n",
              "      <td>86</td>\n",
              "      <td>2017-12-23</td>\n",
              "      <td>FALSE</td>\n",
              "      <td>Approved</td>\n",
              "      <td>OHM Cycles</td>\n",
              "      <td>Standard</td>\n",
              "      <td>medium</td>\n",
              "      <td>medium</td>\n",
              "      <td>235.63</td>\n",
              "      <td>125.07</td>\n",
              "      <td>2005-05-10</td>\n",
              "      <td>110.56</td>\n",
              "      <td>2017-12-30</td>\n",
              "      <td>7 days</td>\n",
              "    </tr>\n",
              "    <tr>\n",
              "      <th>1</th>\n",
              "      <td>1</td>\n",
              "      <td>Laraine</td>\n",
              "      <td>Medendorp</td>\n",
              "      <td>Female</td>\n",
              "      <td>93</td>\n",
              "      <td>1953-10-12</td>\n",
              "      <td>Executive Secretary</td>\n",
              "      <td>Health</td>\n",
              "      <td>Mass Customer</td>\n",
              "      <td>N</td>\n",
              "      <td>Yes</td>\n",
              "      <td>11.0</td>\n",
              "      <td>66.0</td>\n",
              "      <td>3765</td>\n",
              "      <td>38</td>\n",
              "      <td>2017-04-06</td>\n",
              "      <td>TRUE</td>\n",
              "      <td>Approved</td>\n",
              "      <td>Solex</td>\n",
              "      <td>Standard</td>\n",
              "      <td>medium</td>\n",
              "      <td>medium</td>\n",
              "      <td>1577.53</td>\n",
              "      <td>826.51</td>\n",
              "      <td>2008-03-19</td>\n",
              "      <td>751.02</td>\n",
              "      <td>2017-12-30</td>\n",
              "      <td>268 days</td>\n",
              "    </tr>\n",
              "    <tr>\n",
              "      <th>2</th>\n",
              "      <td>1</td>\n",
              "      <td>Laraine</td>\n",
              "      <td>Medendorp</td>\n",
              "      <td>Female</td>\n",
              "      <td>93</td>\n",
              "      <td>1953-10-12</td>\n",
              "      <td>Executive Secretary</td>\n",
              "      <td>Health</td>\n",
              "      <td>Mass Customer</td>\n",
              "      <td>N</td>\n",
              "      <td>Yes</td>\n",
              "      <td>11.0</td>\n",
              "      <td>66.0</td>\n",
              "      <td>5157</td>\n",
              "      <td>47</td>\n",
              "      <td>2017-05-11</td>\n",
              "      <td>TRUE</td>\n",
              "      <td>Approved</td>\n",
              "      <td>Trek Bicycles</td>\n",
              "      <td>Road</td>\n",
              "      <td>low</td>\n",
              "      <td>small</td>\n",
              "      <td>1720.70</td>\n",
              "      <td>1531.42</td>\n",
              "      <td>2003-07-21</td>\n",
              "      <td>189.28</td>\n",
              "      <td>2017-12-30</td>\n",
              "      <td>233 days</td>\n",
              "    </tr>\n",
              "    <tr>\n",
              "      <th>3</th>\n",
              "      <td>1</td>\n",
              "      <td>Laraine</td>\n",
              "      <td>Medendorp</td>\n",
              "      <td>Female</td>\n",
              "      <td>93</td>\n",
              "      <td>1953-10-12</td>\n",
              "      <td>Executive Secretary</td>\n",
              "      <td>Health</td>\n",
              "      <td>Mass Customer</td>\n",
              "      <td>N</td>\n",
              "      <td>Yes</td>\n",
              "      <td>11.0</td>\n",
              "      <td>66.0</td>\n",
              "      <td>9785</td>\n",
              "      <td>72</td>\n",
              "      <td>2017-01-05</td>\n",
              "      <td>FALSE</td>\n",
              "      <td>Approved</td>\n",
              "      <td>Norco Bicycles</td>\n",
              "      <td>Standard</td>\n",
              "      <td>medium</td>\n",
              "      <td>medium</td>\n",
              "      <td>360.40</td>\n",
              "      <td>270.30</td>\n",
              "      <td>2003-09-09</td>\n",
              "      <td>90.10</td>\n",
              "      <td>2017-12-30</td>\n",
              "      <td>359 days</td>\n",
              "    </tr>\n",
              "    <tr>\n",
              "      <th>4</th>\n",
              "      <td>1</td>\n",
              "      <td>Laraine</td>\n",
              "      <td>Medendorp</td>\n",
              "      <td>Female</td>\n",
              "      <td>93</td>\n",
              "      <td>1953-10-12</td>\n",
              "      <td>Executive Secretary</td>\n",
              "      <td>Health</td>\n",
              "      <td>Mass Customer</td>\n",
              "      <td>N</td>\n",
              "      <td>Yes</td>\n",
              "      <td>11.0</td>\n",
              "      <td>66.0</td>\n",
              "      <td>13424</td>\n",
              "      <td>2</td>\n",
              "      <td>2017-02-21</td>\n",
              "      <td>FALSE</td>\n",
              "      <td>Approved</td>\n",
              "      <td>Solex</td>\n",
              "      <td>Standard</td>\n",
              "      <td>medium</td>\n",
              "      <td>medium</td>\n",
              "      <td>71.49</td>\n",
              "      <td>53.62</td>\n",
              "      <td>2005-08-09</td>\n",
              "      <td>17.87</td>\n",
              "      <td>2017-12-30</td>\n",
              "      <td>312 days</td>\n",
              "    </tr>\n",
              "  </tbody>\n",
              "</table>\n",
              "</div>"
            ],
            "text/plain": [
              "   customer_id first_name  last_name  ...  profit  constant_d   Recency\n",
              "0            1    Laraine  Medendorp  ...  110.56  2017-12-30    7 days\n",
              "1            1    Laraine  Medendorp  ...  751.02  2017-12-30  268 days\n",
              "2            1    Laraine  Medendorp  ...  189.28  2017-12-30  233 days\n",
              "3            1    Laraine  Medendorp  ...   90.10  2017-12-30  359 days\n",
              "4            1    Laraine  Medendorp  ...   17.87  2017-12-30  312 days\n",
              "\n",
              "[5 rows x 28 columns]"
            ]
          },
          "metadata": {
            "tags": []
          },
          "execution_count": 4
        }
      ]
    },
    {
      "cell_type": "code",
      "metadata": {
        "id": "2-CwkggT5cUH"
      },
      "source": [
        "fulldata.drop(fulldata.index[fulldata['order_status']=='Cancelled'],inplace=True)"
      ],
      "execution_count": 5,
      "outputs": []
    },
    {
      "cell_type": "code",
      "metadata": {
        "id": "-VETGjHZ5gir",
        "outputId": "b506aa85-13dd-46f2-8933-c7f6805711cf",
        "colab": {
          "base_uri": "https://localhost:8080/",
          "height": 54
        }
      },
      "source": [
        "fulldata.order_status.value_counts()"
      ],
      "execution_count": 6,
      "outputs": [
        {
          "output_type": "execute_result",
          "data": {
            "text/plain": [
              "Approved    19622\n",
              "Name: order_status, dtype: int64"
            ]
          },
          "metadata": {
            "tags": []
          },
          "execution_count": 6
        }
      ]
    },
    {
      "cell_type": "code",
      "metadata": {
        "id": "T8Brkt8iLBlk",
        "outputId": "1f308564-980f-4ec8-c2df-a0cb85ec5309",
        "colab": {
          "base_uri": "https://localhost:8080/",
          "height": 654
        }
      },
      "source": [
        "fulldata.info()"
      ],
      "execution_count": 7,
      "outputs": [
        {
          "output_type": "stream",
          "text": [
            "<class 'pandas.core.frame.DataFrame'>\n",
            "Int64Index: 19622 entries, 0 to 19799\n",
            "Data columns (total 28 columns):\n",
            " #   Column                               Non-Null Count  Dtype  \n",
            "---  ------                               --------------  -----  \n",
            " 0   customer_id                          19622 non-null  int64  \n",
            " 1   first_name                           19622 non-null  object \n",
            " 2   last_name                            19622 non-null  object \n",
            " 3   gender                               19622 non-null  object \n",
            " 4   past_3_years_bike_related_purchases  19622 non-null  int64  \n",
            " 5   DOB                                  19186 non-null  object \n",
            " 6   job_title                            19622 non-null  object \n",
            " 7   job_industry_category                19622 non-null  object \n",
            " 8   wealth_segment                       19622 non-null  object \n",
            " 9   deceased_indicator                   19622 non-null  object \n",
            " 10  owns_car                             19622 non-null  object \n",
            " 11  tenure                               19186 non-null  float64\n",
            " 12  age                                  19186 non-null  float64\n",
            " 13  transaction_id                       19622 non-null  int64  \n",
            " 14  product_id                           19622 non-null  int64  \n",
            " 15  transaction_date                     19622 non-null  object \n",
            " 16  online_order                         19622 non-null  object \n",
            " 17  order_status                         19622 non-null  object \n",
            " 18  brand                                19622 non-null  object \n",
            " 19  product_line                         19622 non-null  object \n",
            " 20  product_class                        19622 non-null  object \n",
            " 21  product_size                         19622 non-null  object \n",
            " 22  list_price                           19622 non-null  float64\n",
            " 23  standard_cost                        19622 non-null  float64\n",
            " 24  product_first_sold_date              19622 non-null  object \n",
            " 25  profit                               19622 non-null  float64\n",
            " 26  constant_d                           19622 non-null  object \n",
            " 27  Recency                              19622 non-null  object \n",
            "dtypes: float64(5), int64(4), object(19)\n",
            "memory usage: 4.3+ MB\n"
          ],
          "name": "stdout"
        }
      ]
    },
    {
      "cell_type": "code",
      "metadata": {
        "id": "LsNJzC8mSS_Z",
        "outputId": "e1fee598-668a-444c-b379-9ead5648d7a1",
        "colab": {
          "base_uri": "https://localhost:8080/",
          "height": 35
        }
      },
      "source": [
        "fulldata.customer_id.nunique()"
      ],
      "execution_count": 8,
      "outputs": [
        {
          "output_type": "execute_result",
          "data": {
            "text/plain": [
              "3492"
            ]
          },
          "metadata": {
            "tags": []
          },
          "execution_count": 8
        }
      ]
    },
    {
      "cell_type": "code",
      "metadata": {
        "id": "Alh0Xxag6hRy",
        "outputId": "a17e1685-cf66-4a68-8a70-35653c1ff2ee",
        "colab": {
          "base_uri": "https://localhost:8080/",
          "height": 35
        }
      },
      "source": [
        "fulldata.transaction_id.nunique()"
      ],
      "execution_count": 9,
      "outputs": [
        {
          "output_type": "execute_result",
          "data": {
            "text/plain": [
              "19622"
            ]
          },
          "metadata": {
            "tags": []
          },
          "execution_count": 9
        }
      ]
    },
    {
      "cell_type": "code",
      "metadata": {
        "id": "n30cCYRBLMPr",
        "outputId": "2112bc94-f23a-4325-8358-f7568aeadb37",
        "colab": {
          "base_uri": "https://localhost:8080/",
          "height": 168
        }
      },
      "source": [
        "pd.pivot_table(fulldata, index = 'product_class', columns = 'product_size', values = 'customer_id' ,aggfunc ='count')"
      ],
      "execution_count": 63,
      "outputs": [
        {
          "output_type": "execute_result",
          "data": {
            "text/html": [
              "<div>\n",
              "<style scoped>\n",
              "    .dataframe tbody tr th:only-of-type {\n",
              "        vertical-align: middle;\n",
              "    }\n",
              "\n",
              "    .dataframe tbody tr th {\n",
              "        vertical-align: top;\n",
              "    }\n",
              "\n",
              "    .dataframe thead th {\n",
              "        text-align: right;\n",
              "    }\n",
              "</style>\n",
              "<table border=\"1\" class=\"dataframe\">\n",
              "  <thead>\n",
              "    <tr style=\"text-align: right;\">\n",
              "      <th>product_size</th>\n",
              "      <th>large</th>\n",
              "      <th>medium</th>\n",
              "      <th>small</th>\n",
              "    </tr>\n",
              "    <tr>\n",
              "      <th>product_class</th>\n",
              "      <th></th>\n",
              "      <th></th>\n",
              "      <th></th>\n",
              "    </tr>\n",
              "  </thead>\n",
              "  <tbody>\n",
              "    <tr>\n",
              "      <th>high</th>\n",
              "      <td>570.0</td>\n",
              "      <td>2032.0</td>\n",
              "      <td>376.0</td>\n",
              "    </tr>\n",
              "    <tr>\n",
              "      <th>low</th>\n",
              "      <td>NaN</td>\n",
              "      <td>2229.0</td>\n",
              "      <td>717.0</td>\n",
              "    </tr>\n",
              "    <tr>\n",
              "      <th>medium</th>\n",
              "      <td>3368.0</td>\n",
              "      <td>8612.0</td>\n",
              "      <td>1718.0</td>\n",
              "    </tr>\n",
              "  </tbody>\n",
              "</table>\n",
              "</div>"
            ],
            "text/plain": [
              "product_size    large  medium   small\n",
              "product_class                        \n",
              "high            570.0  2032.0   376.0\n",
              "low               NaN  2229.0   717.0\n",
              "medium         3368.0  8612.0  1718.0"
            ]
          },
          "metadata": {
            "tags": []
          },
          "execution_count": 63
        }
      ]
    },
    {
      "cell_type": "code",
      "metadata": {
        "id": "ofco4C02SRne",
        "outputId": "8cdd5859-7647-4e89-9d2f-c6ce64586685",
        "colab": {
          "base_uri": "https://localhost:8080/",
          "height": 168
        }
      },
      "source": [
        "pd.pivot_table(fulldata, index = 'gender', columns = 'product_size', values = 'customer_id' ,aggfunc ='count')"
      ],
      "execution_count": 62,
      "outputs": [
        {
          "output_type": "execute_result",
          "data": {
            "text/html": [
              "<div>\n",
              "<style scoped>\n",
              "    .dataframe tbody tr th:only-of-type {\n",
              "        vertical-align: middle;\n",
              "    }\n",
              "\n",
              "    .dataframe tbody tr th {\n",
              "        vertical-align: top;\n",
              "    }\n",
              "\n",
              "    .dataframe thead th {\n",
              "        text-align: right;\n",
              "    }\n",
              "</style>\n",
              "<table border=\"1\" class=\"dataframe\">\n",
              "  <thead>\n",
              "    <tr style=\"text-align: right;\">\n",
              "      <th>product_size</th>\n",
              "      <th>large</th>\n",
              "      <th>medium</th>\n",
              "      <th>small</th>\n",
              "    </tr>\n",
              "    <tr>\n",
              "      <th>gender</th>\n",
              "      <th></th>\n",
              "      <th></th>\n",
              "      <th></th>\n",
              "    </tr>\n",
              "  </thead>\n",
              "  <tbody>\n",
              "    <tr>\n",
              "      <th>Female</th>\n",
              "      <td>1942</td>\n",
              "      <td>6480</td>\n",
              "      <td>1407</td>\n",
              "    </tr>\n",
              "    <tr>\n",
              "      <th>Male</th>\n",
              "      <td>1906</td>\n",
              "      <td>6110</td>\n",
              "      <td>1333</td>\n",
              "    </tr>\n",
              "    <tr>\n",
              "      <th>U</th>\n",
              "      <td>90</td>\n",
              "      <td>283</td>\n",
              "      <td>71</td>\n",
              "    </tr>\n",
              "  </tbody>\n",
              "</table>\n",
              "</div>"
            ],
            "text/plain": [
              "product_size  large  medium  small\n",
              "gender                            \n",
              "Female         1942    6480   1407\n",
              "Male           1906    6110   1333\n",
              "U                90     283     71"
            ]
          },
          "metadata": {
            "tags": []
          },
          "execution_count": 62
        }
      ]
    },
    {
      "cell_type": "code",
      "metadata": {
        "id": "WGNrGrnPUdHS",
        "outputId": "353e6fcb-58cf-4c1c-a1f5-896c1bd62cd5",
        "colab": {
          "base_uri": "https://localhost:8080/",
          "height": 168
        }
      },
      "source": [
        "pd.pivot_table(fulldata, index = 'gender', columns = 'product_class', values = 'customer_id' ,aggfunc ='count')"
      ],
      "execution_count": 61,
      "outputs": [
        {
          "output_type": "execute_result",
          "data": {
            "text/html": [
              "<div>\n",
              "<style scoped>\n",
              "    .dataframe tbody tr th:only-of-type {\n",
              "        vertical-align: middle;\n",
              "    }\n",
              "\n",
              "    .dataframe tbody tr th {\n",
              "        vertical-align: top;\n",
              "    }\n",
              "\n",
              "    .dataframe thead th {\n",
              "        text-align: right;\n",
              "    }\n",
              "</style>\n",
              "<table border=\"1\" class=\"dataframe\">\n",
              "  <thead>\n",
              "    <tr style=\"text-align: right;\">\n",
              "      <th>product_class</th>\n",
              "      <th>high</th>\n",
              "      <th>low</th>\n",
              "      <th>medium</th>\n",
              "    </tr>\n",
              "    <tr>\n",
              "      <th>gender</th>\n",
              "      <th></th>\n",
              "      <th></th>\n",
              "      <th></th>\n",
              "    </tr>\n",
              "  </thead>\n",
              "  <tbody>\n",
              "    <tr>\n",
              "      <th>Female</th>\n",
              "      <td>1486</td>\n",
              "      <td>1472</td>\n",
              "      <td>6871</td>\n",
              "    </tr>\n",
              "    <tr>\n",
              "      <th>Male</th>\n",
              "      <td>1425</td>\n",
              "      <td>1420</td>\n",
              "      <td>6504</td>\n",
              "    </tr>\n",
              "    <tr>\n",
              "      <th>U</th>\n",
              "      <td>67</td>\n",
              "      <td>54</td>\n",
              "      <td>323</td>\n",
              "    </tr>\n",
              "  </tbody>\n",
              "</table>\n",
              "</div>"
            ],
            "text/plain": [
              "product_class  high   low  medium\n",
              "gender                           \n",
              "Female         1486  1472    6871\n",
              "Male           1425  1420    6504\n",
              "U                67    54     323"
            ]
          },
          "metadata": {
            "tags": []
          },
          "execution_count": 61
        }
      ]
    },
    {
      "cell_type": "code",
      "metadata": {
        "id": "cKsVYqwJWKg1",
        "outputId": "cd2bdeb3-dcea-4ea1-d1d8-30ad5361322b",
        "colab": {
          "base_uri": "https://localhost:8080/",
          "height": 168
        }
      },
      "source": [
        "pd.pivot_table(fulldata, index = 'gender', columns = 'product_line', values = 'customer_id' ,aggfunc ='count')"
      ],
      "execution_count": 60,
      "outputs": [
        {
          "output_type": "execute_result",
          "data": {
            "text/html": [
              "<div>\n",
              "<style scoped>\n",
              "    .dataframe tbody tr th:only-of-type {\n",
              "        vertical-align: middle;\n",
              "    }\n",
              "\n",
              "    .dataframe tbody tr th {\n",
              "        vertical-align: top;\n",
              "    }\n",
              "\n",
              "    .dataframe thead th {\n",
              "        text-align: right;\n",
              "    }\n",
              "</style>\n",
              "<table border=\"1\" class=\"dataframe\">\n",
              "  <thead>\n",
              "    <tr style=\"text-align: right;\">\n",
              "      <th>product_line</th>\n",
              "      <th>Mountain</th>\n",
              "      <th>Road</th>\n",
              "      <th>Standard</th>\n",
              "      <th>Touring</th>\n",
              "    </tr>\n",
              "    <tr>\n",
              "      <th>gender</th>\n",
              "      <th></th>\n",
              "      <th></th>\n",
              "      <th></th>\n",
              "      <th></th>\n",
              "    </tr>\n",
              "  </thead>\n",
              "  <tbody>\n",
              "    <tr>\n",
              "      <th>Female</th>\n",
              "      <td>216</td>\n",
              "      <td>1973</td>\n",
              "      <td>7056</td>\n",
              "      <td>584</td>\n",
              "    </tr>\n",
              "    <tr>\n",
              "      <th>Male</th>\n",
              "      <td>196</td>\n",
              "      <td>1865</td>\n",
              "      <td>6688</td>\n",
              "      <td>600</td>\n",
              "    </tr>\n",
              "    <tr>\n",
              "      <th>U</th>\n",
              "      <td>8</td>\n",
              "      <td>92</td>\n",
              "      <td>303</td>\n",
              "      <td>41</td>\n",
              "    </tr>\n",
              "  </tbody>\n",
              "</table>\n",
              "</div>"
            ],
            "text/plain": [
              "product_line  Mountain  Road  Standard  Touring\n",
              "gender                                         \n",
              "Female             216  1973      7056      584\n",
              "Male               196  1865      6688      600\n",
              "U                    8    92       303       41"
            ]
          },
          "metadata": {
            "tags": []
          },
          "execution_count": 60
        }
      ]
    },
    {
      "cell_type": "code",
      "metadata": {
        "id": "hnKP_44kWzjp"
      },
      "source": [
        "u=pd.pivot_table(fulldata, index = 'gender', columns = 'brand', values = 'customer_id' ,aggfunc ='count')"
      ],
      "execution_count": 14,
      "outputs": []
    },
    {
      "cell_type": "code",
      "metadata": {
        "id": "iEyzcGfaPIEW"
      },
      "source": [
        "f=pd.pivot_table(fulldata, index = 'brand', columns = 'gender', values = 'customer_id' ,aggfunc ='count')"
      ],
      "execution_count": 15,
      "outputs": []
    },
    {
      "cell_type": "code",
      "metadata": {
        "id": "bJc_m9GBXFpo",
        "outputId": "2b4302c2-a932-4fe1-a589-fbccf900a6fa",
        "colab": {
          "base_uri": "https://localhost:8080/",
          "height": 323
        }
      },
      "source": [
        "u.plot(kind=\"bar\")"
      ],
      "execution_count": 16,
      "outputs": [
        {
          "output_type": "execute_result",
          "data": {
            "text/plain": [
              "<matplotlib.axes._subplots.AxesSubplot at 0x7f9e2c584fd0>"
            ]
          },
          "metadata": {
            "tags": []
          },
          "execution_count": 16
        },
        {
          "output_type": "display_data",
          "data": {
            "image/png": "[encoded data removed]",
            "text/plain": [
              "<Figure size 432x288 with 1 Axes>"
            ]
          },
          "metadata": {
            "tags": [],
            "needs_background": "light"
          }
        }
      ]
    },
    {
      "cell_type": "code",
      "metadata": {
        "id": "sQrlPtCdPO25",
        "outputId": "751f4796-a0ef-429c-9baa-be18f6a0208e",
        "colab": {
          "base_uri": "https://localhost:8080/",
          "height": 360
        }
      },
      "source": [
        "f.plot(kind=\"bar\")"
      ],
      "execution_count": 17,
      "outputs": [
        {
          "output_type": "execute_result",
          "data": {
            "text/plain": [
              "<matplotlib.axes._subplots.AxesSubplot at 0x7f9e2c421160>"
            ]
          },
          "metadata": {
            "tags": []
          },
          "execution_count": 17
        },
        {
          "output_type": "display_data",
          "data": {
            "image/png": "[encoded data removed]",
            "text/plain": [
              "<Figure size 432x288 with 1 Axes>"
            ]
          },
          "metadata": {
            "tags": [],
            "needs_background": "light"
          }
        }
      ]
    },
    {
      "cell_type": "code",
      "metadata": {
        "id": "2_rjUbczlNea",
        "outputId": "957bb50b-84aa-40a0-d281-42c4ecb9db87",
        "colab": {
          "base_uri": "https://localhost:8080/",
          "height": 254
        }
      },
      "source": [
        "print(fulldata.customer_id.nunique())\n",
        "fulldata.profit=fulldata.profit.round(0)\n",
        "print(fulldata.profit)\n"
      ],
      "execution_count": 18,
      "outputs": [
        {
          "output_type": "stream",
          "text": [
            "3492\n",
            "0        111.0\n",
            "1        751.0\n",
            "2        189.0\n",
            "3         90.0\n",
            "4         18.0\n",
            "         ...  \n",
            "19795    198.0\n",
            "19796    827.0\n",
            "19797    144.0\n",
            "19798     15.0\n",
            "19799    583.0\n",
            "Name: profit, Length: 19622, dtype: float64\n"
          ],
          "name": "stdout"
        }
      ]
    },
    {
      "cell_type": "code",
      "metadata": {
        "id": "sorrwKQKPbC-"
      },
      "source": [
        "t=pd.DataFrame(fulldata.groupby('customer_id')['constant_d'].agg('count'))"
      ],
      "execution_count": 19,
      "outputs": []
    },
    {
      "cell_type": "code",
      "metadata": {
        "id": "491YxXYqmUEC"
      },
      "source": [
        "t.reset_index(inplace=True)"
      ],
      "execution_count": 20,
      "outputs": []
    },
    {
      "cell_type": "code",
      "metadata": {
        "id": "GDTbzjKVlqkq"
      },
      "source": [
        "t.columns=['customer_id','frequency']"
      ],
      "execution_count": 21,
      "outputs": []
    },
    {
      "cell_type": "code",
      "metadata": {
        "id": "Cwg3mGS_l-Yk",
        "outputId": "2a671f8a-5762-4179-ffab-c7db554acfe4",
        "colab": {
          "base_uri": "https://localhost:8080/",
          "height": 348
        }
      },
      "source": [
        "t.sort_values(by=['frequency'],ascending=False).head(10)"
      ],
      "execution_count": 22,
      "outputs": [
        {
          "output_type": "execute_result",
          "data": {
            "text/html": [
              "<div>\n",
              "<style scoped>\n",
              "    .dataframe tbody tr th:only-of-type {\n",
              "        vertical-align: middle;\n",
              "    }\n",
              "\n",
              "    .dataframe tbody tr th {\n",
              "        vertical-align: top;\n",
              "    }\n",
              "\n",
              "    .dataframe thead th {\n",
              "        text-align: right;\n",
              "    }\n",
              "</style>\n",
              "<table border=\"1\" class=\"dataframe\">\n",
              "  <thead>\n",
              "    <tr style=\"text-align: right;\">\n",
              "      <th></th>\n",
              "      <th>customer_id</th>\n",
              "      <th>frequency</th>\n",
              "    </tr>\n",
              "  </thead>\n",
              "  <tbody>\n",
              "    <tr>\n",
              "      <th>2470</th>\n",
              "      <td>2476</td>\n",
              "      <td>14</td>\n",
              "    </tr>\n",
              "    <tr>\n",
              "      <th>2177</th>\n",
              "      <td>2183</td>\n",
              "      <td>14</td>\n",
              "    </tr>\n",
              "    <tr>\n",
              "      <th>1064</th>\n",
              "      <td>1068</td>\n",
              "      <td>14</td>\n",
              "    </tr>\n",
              "    <tr>\n",
              "      <th>1908</th>\n",
              "      <td>1913</td>\n",
              "      <td>13</td>\n",
              "    </tr>\n",
              "    <tr>\n",
              "      <th>1125</th>\n",
              "      <td>1129</td>\n",
              "      <td>13</td>\n",
              "    </tr>\n",
              "    <tr>\n",
              "      <th>1298</th>\n",
              "      <td>1302</td>\n",
              "      <td>13</td>\n",
              "    </tr>\n",
              "    <tr>\n",
              "      <th>3041</th>\n",
              "      <td>3048</td>\n",
              "      <td>13</td>\n",
              "    </tr>\n",
              "    <tr>\n",
              "      <th>1941</th>\n",
              "      <td>1946</td>\n",
              "      <td>13</td>\n",
              "    </tr>\n",
              "    <tr>\n",
              "      <th>2905</th>\n",
              "      <td>2912</td>\n",
              "      <td>13</td>\n",
              "    </tr>\n",
              "    <tr>\n",
              "      <th>1136</th>\n",
              "      <td>1140</td>\n",
              "      <td>13</td>\n",
              "    </tr>\n",
              "  </tbody>\n",
              "</table>\n",
              "</div>"
            ],
            "text/plain": [
              "      customer_id  frequency\n",
              "2470         2476         14\n",
              "2177         2183         14\n",
              "1064         1068         14\n",
              "1908         1913         13\n",
              "1125         1129         13\n",
              "1298         1302         13\n",
              "3041         3048         13\n",
              "1941         1946         13\n",
              "2905         2912         13\n",
              "1136         1140         13"
            ]
          },
          "metadata": {
            "tags": []
          },
          "execution_count": 22
        }
      ]
    },
    {
      "cell_type": "code",
      "metadata": {
        "id": "HPYo9narvL6g",
        "outputId": "dcc6abf9-da2f-4db2-bf6b-133649bd3b22",
        "colab": {
          "base_uri": "https://localhost:8080/",
          "height": 198
        }
      },
      "source": [
        "r=pd.DataFrame(fulldata.groupby('product_id')['profit'].agg('sum'))\n",
        "r.reset_index(inplace=True)\n",
        "r.columns=['product_id','tot_profit']\n",
        "g=r.sort_values(by=['tot_profit'],ascending=False)\n",
        "g.head()"
      ],
      "execution_count": 23,
      "outputs": [
        {
          "output_type": "execute_result",
          "data": {
            "text/html": [
              "<div>\n",
              "<style scoped>\n",
              "    .dataframe tbody tr th:only-of-type {\n",
              "        vertical-align: middle;\n",
              "    }\n",
              "\n",
              "    .dataframe tbody tr th {\n",
              "        vertical-align: top;\n",
              "    }\n",
              "\n",
              "    .dataframe thead th {\n",
              "        text-align: right;\n",
              "    }\n",
              "</style>\n",
              "<table border=\"1\" class=\"dataframe\">\n",
              "  <thead>\n",
              "    <tr style=\"text-align: right;\">\n",
              "      <th></th>\n",
              "      <th>product_id</th>\n",
              "      <th>tot_profit</th>\n",
              "    </tr>\n",
              "  </thead>\n",
              "  <tbody>\n",
              "    <tr>\n",
              "      <th>3</th>\n",
              "      <td>3</td>\n",
              "      <td>596050.0</td>\n",
              "    </tr>\n",
              "    <tr>\n",
              "      <th>38</th>\n",
              "      <td>38</td>\n",
              "      <td>305438.0</td>\n",
              "    </tr>\n",
              "    <tr>\n",
              "      <th>57</th>\n",
              "      <td>57</td>\n",
              "      <td>281990.0</td>\n",
              "    </tr>\n",
              "    <tr>\n",
              "      <th>46</th>\n",
              "      <td>46</td>\n",
              "      <td>259260.0</td>\n",
              "    </tr>\n",
              "    <tr>\n",
              "      <th>89</th>\n",
              "      <td>89</td>\n",
              "      <td>246810.0</td>\n",
              "    </tr>\n",
              "  </tbody>\n",
              "</table>\n",
              "</div>"
            ],
            "text/plain": [
              "    product_id  tot_profit\n",
              "3            3    596050.0\n",
              "38          38    305438.0\n",
              "57          57    281990.0\n",
              "46          46    259260.0\n",
              "89          89    246810.0"
            ]
          },
          "metadata": {
            "tags": []
          },
          "execution_count": 23
        }
      ]
    },
    {
      "cell_type": "code",
      "metadata": {
        "id": "R2RiwXLQyjFg",
        "outputId": "7d619f51-b19c-40d9-8237-7fd8960593ce",
        "colab": {
          "base_uri": "https://localhost:8080/",
          "height": 198
        }
      },
      "source": [
        "fulldata.profit=fulldata.profit.round(0)\n",
        "\n",
        "y=pd.pivot_table(fulldata, index = 'product_id', values ='profit')\n",
        "y.sort_values(by='profit',ascending=False).head()\n",
        "y.reset_index(inplace=True)\n",
        "y.columns=['product_id','profit']\n",
        "y.profit=y.profit.round(0)\n",
        "y.head()"
      ],
      "execution_count": 24,
      "outputs": [
        {
          "output_type": "execute_result",
          "data": {
            "text/html": [
              "<div>\n",
              "<style scoped>\n",
              "    .dataframe tbody tr th:only-of-type {\n",
              "        vertical-align: middle;\n",
              "    }\n",
              "\n",
              "    .dataframe tbody tr th {\n",
              "        vertical-align: top;\n",
              "    }\n",
              "\n",
              "    .dataframe thead th {\n",
              "        text-align: right;\n",
              "    }\n",
              "</style>\n",
              "<table border=\"1\" class=\"dataframe\">\n",
              "  <thead>\n",
              "    <tr style=\"text-align: right;\">\n",
              "      <th></th>\n",
              "      <th>product_id</th>\n",
              "      <th>profit</th>\n",
              "    </tr>\n",
              "  </thead>\n",
              "  <tbody>\n",
              "    <tr>\n",
              "      <th>0</th>\n",
              "      <td>0</td>\n",
              "      <td>89.0</td>\n",
              "    </tr>\n",
              "    <tr>\n",
              "      <th>1</th>\n",
              "      <td>1</td>\n",
              "      <td>523.0</td>\n",
              "    </tr>\n",
              "    <tr>\n",
              "      <th>2</th>\n",
              "      <td>2</td>\n",
              "      <td>27.0</td>\n",
              "    </tr>\n",
              "    <tr>\n",
              "      <th>3</th>\n",
              "      <td>3</td>\n",
              "      <td>1703.0</td>\n",
              "    </tr>\n",
              "    <tr>\n",
              "      <th>4</th>\n",
              "      <td>4</td>\n",
              "      <td>689.0</td>\n",
              "    </tr>\n",
              "  </tbody>\n",
              "</table>\n",
              "</div>"
            ],
            "text/plain": [
              "   product_id  profit\n",
              "0           0    89.0\n",
              "1           1   523.0\n",
              "2           2    27.0\n",
              "3           3  1703.0\n",
              "4           4   689.0"
            ]
          },
          "metadata": {
            "tags": []
          },
          "execution_count": 24
        }
      ]
    },
    {
      "cell_type": "code",
      "metadata": {
        "id": "DvpElIHx_OIx",
        "outputId": "495e14cf-d259-493b-c5a4-9e8a01ef47ed",
        "colab": {
          "base_uri": "https://localhost:8080/",
          "height": 198
        }
      },
      "source": [
        "i=pd.DataFrame(fulldata.groupby('product_id')['profit'].agg('count'))\n",
        "i.reset_index(inplace=True)\n",
        "i.columns=['product_id','freq_product_id']\n",
        "i.head()"
      ],
      "execution_count": 25,
      "outputs": [
        {
          "output_type": "execute_result",
          "data": {
            "text/html": [
              "<div>\n",
              "<style scoped>\n",
              "    .dataframe tbody tr th:only-of-type {\n",
              "        vertical-align: middle;\n",
              "    }\n",
              "\n",
              "    .dataframe tbody tr th {\n",
              "        vertical-align: top;\n",
              "    }\n",
              "\n",
              "    .dataframe thead th {\n",
              "        text-align: right;\n",
              "    }\n",
              "</style>\n",
              "<table border=\"1\" class=\"dataframe\">\n",
              "  <thead>\n",
              "    <tr style=\"text-align: right;\">\n",
              "      <th></th>\n",
              "      <th>product_id</th>\n",
              "      <th>freq_product_id</th>\n",
              "    </tr>\n",
              "  </thead>\n",
              "  <tbody>\n",
              "    <tr>\n",
              "      <th>0</th>\n",
              "      <td>0</td>\n",
              "      <td>1172</td>\n",
              "    </tr>\n",
              "    <tr>\n",
              "      <th>1</th>\n",
              "      <td>1</td>\n",
              "      <td>309</td>\n",
              "    </tr>\n",
              "    <tr>\n",
              "      <th>2</th>\n",
              "      <td>2</td>\n",
              "      <td>239</td>\n",
              "    </tr>\n",
              "    <tr>\n",
              "      <th>3</th>\n",
              "      <td>3</td>\n",
              "      <td>350</td>\n",
              "    </tr>\n",
              "    <tr>\n",
              "      <th>4</th>\n",
              "      <td>4</td>\n",
              "      <td>240</td>\n",
              "    </tr>\n",
              "  </tbody>\n",
              "</table>\n",
              "</div>"
            ],
            "text/plain": [
              "   product_id  freq_product_id\n",
              "0           0             1172\n",
              "1           1              309\n",
              "2           2              239\n",
              "3           3              350\n",
              "4           4              240"
            ]
          },
          "metadata": {
            "tags": []
          },
          "execution_count": 25
        }
      ]
    },
    {
      "cell_type": "code",
      "metadata": {
        "id": "kLOxZiC4wkc8"
      },
      "source": [
        "h=pd.merge(i,g)\n",
        "k=pd.merge(h,y)"
      ],
      "execution_count": 26,
      "outputs": []
    },
    {
      "cell_type": "markdown",
      "metadata": {
        "id": "YePvw24OfNPZ"
      },
      "source": [
        "## lets look at the product id \n",
        "which is most purchased and which is giving more profit\n",
        "\n",
        "\n"
      ]
    },
    {
      "cell_type": "code",
      "metadata": {
        "id": "DJxMMDIWCphB",
        "outputId": "02c54a49-f561-4d37-f689-96977abf7609",
        "colab": {
          "base_uri": "https://localhost:8080/",
          "height": 530
        }
      },
      "source": [
        "print('max_purchase: ',k.freq_product_id.max())\n",
        "print('product_id_for_max_purchase :',k.loc[k['freq_product_id'] == 1172,'product_id'].iloc[0])\n",
        "print('min_purchase: ',k.freq_product_id.min())\n",
        "print('product_id_for_min_purchase :',k.loc[k['freq_product_id'] == 121,'product_id'].iloc[0])\n",
        "print('min_profit: ',k.profit.min())\n",
        "print('product_id_with min_profit :',k.loc[k['profit'] ==27.0,'product_id'].iloc[0])\n",
        "print('max_profit: ',k.profit.max())\n",
        "print('product_id_with max_profit :',k.loc[k['profit'] ==1703.0,'product_id'].iloc[0])\n",
        "print('min_tot_profit: ',k.tot_profit.min())\n",
        "print('product_id_with min_tot_profit :',k.loc[k['tot_profit'] == 4856.0,'product_id'].iloc[0])\n",
        "##maximum tot_profit is 596050.0 and product id is\"3\"\n",
        "\n",
        "k.sort_values(by=['tot_profit'],ascending=False).head(10)"
      ],
      "execution_count": 27,
      "outputs": [
        {
          "output_type": "stream",
          "text": [
            "max_purchase:  1172\n",
            "product_id_for_max_purchase : 0\n",
            "min_purchase:  121\n",
            "product_id_for_min_purchase : 47\n",
            "min_profit:  27.0\n",
            "product_id_with min_profit : 2\n",
            "max_profit:  1703.0\n",
            "product_id_with max_profit : 3\n",
            "min_tot_profit:  4856.0\n",
            "product_id_with min_tot_profit : 61\n"
          ],
          "name": "stdout"
        },
        {
          "output_type": "execute_result",
          "data": {
            "text/html": [
              "<div>\n",
              "<style scoped>\n",
              "    .dataframe tbody tr th:only-of-type {\n",
              "        vertical-align: middle;\n",
              "    }\n",
              "\n",
              "    .dataframe tbody tr th {\n",
              "        vertical-align: top;\n",
              "    }\n",
              "\n",
              "    .dataframe thead th {\n",
              "        text-align: right;\n",
              "    }\n",
              "</style>\n",
              "<table border=\"1\" class=\"dataframe\">\n",
              "  <thead>\n",
              "    <tr style=\"text-align: right;\">\n",
              "      <th></th>\n",
              "      <th>product_id</th>\n",
              "      <th>freq_product_id</th>\n",
              "      <th>tot_profit</th>\n",
              "      <th>profit</th>\n",
              "    </tr>\n",
              "  </thead>\n",
              "  <tbody>\n",
              "    <tr>\n",
              "      <th>3</th>\n",
              "      <td>3</td>\n",
              "      <td>350</td>\n",
              "      <td>596050.0</td>\n",
              "      <td>1703.0</td>\n",
              "    </tr>\n",
              "    <tr>\n",
              "      <th>38</th>\n",
              "      <td>38</td>\n",
              "      <td>266</td>\n",
              "      <td>305438.0</td>\n",
              "      <td>1148.0</td>\n",
              "    </tr>\n",
              "    <tr>\n",
              "      <th>57</th>\n",
              "      <td>57</td>\n",
              "      <td>173</td>\n",
              "      <td>281990.0</td>\n",
              "      <td>1630.0</td>\n",
              "    </tr>\n",
              "    <tr>\n",
              "      <th>46</th>\n",
              "      <td>46</td>\n",
              "      <td>196</td>\n",
              "      <td>259260.0</td>\n",
              "      <td>1323.0</td>\n",
              "    </tr>\n",
              "    <tr>\n",
              "      <th>89</th>\n",
              "      <td>89</td>\n",
              "      <td>192</td>\n",
              "      <td>246810.0</td>\n",
              "      <td>1285.0</td>\n",
              "    </tr>\n",
              "    <tr>\n",
              "      <th>63</th>\n",
              "      <td>63</td>\n",
              "      <td>175</td>\n",
              "      <td>236040.0</td>\n",
              "      <td>1349.0</td>\n",
              "    </tr>\n",
              "    <tr>\n",
              "      <th>12</th>\n",
              "      <td>12</td>\n",
              "      <td>221</td>\n",
              "      <td>235798.0</td>\n",
              "      <td>1067.0</td>\n",
              "    </tr>\n",
              "    <tr>\n",
              "      <th>54</th>\n",
              "      <td>54</td>\n",
              "      <td>194</td>\n",
              "      <td>235126.0</td>\n",
              "      <td>1212.0</td>\n",
              "    </tr>\n",
              "    <tr>\n",
              "      <th>37</th>\n",
              "      <td>37</td>\n",
              "      <td>152</td>\n",
              "      <td>234840.0</td>\n",
              "      <td>1545.0</td>\n",
              "    </tr>\n",
              "    <tr>\n",
              "      <th>10</th>\n",
              "      <td>10</td>\n",
              "      <td>188</td>\n",
              "      <td>232814.0</td>\n",
              "      <td>1238.0</td>\n",
              "    </tr>\n",
              "  </tbody>\n",
              "</table>\n",
              "</div>"
            ],
            "text/plain": [
              "    product_id  freq_product_id  tot_profit  profit\n",
              "3            3              350    596050.0  1703.0\n",
              "38          38              266    305438.0  1148.0\n",
              "57          57              173    281990.0  1630.0\n",
              "46          46              196    259260.0  1323.0\n",
              "89          89              192    246810.0  1285.0\n",
              "63          63              175    236040.0  1349.0\n",
              "12          12              221    235798.0  1067.0\n",
              "54          54              194    235126.0  1212.0\n",
              "37          37              152    234840.0  1545.0\n",
              "10          10              188    232814.0  1238.0"
            ]
          },
          "metadata": {
            "tags": []
          },
          "execution_count": 27
        }
      ]
    },
    {
      "cell_type": "code",
      "metadata": {
        "id": "HBkRwSoJoVKA",
        "outputId": "58835622-aa19-4e2b-d931-71abcdb37613",
        "colab": {
          "base_uri": "https://localhost:8080/",
          "height": 35
        }
      },
      "source": [
        "t.shape"
      ],
      "execution_count": 28,
      "outputs": [
        {
          "output_type": "execute_result",
          "data": {
            "text/plain": [
              "(3492, 2)"
            ]
          },
          "metadata": {
            "tags": []
          },
          "execution_count": 28
        }
      ]
    },
    {
      "cell_type": "code",
      "metadata": {
        "id": "bdLwUIUPoYZ7"
      },
      "source": [
        "new_data=pd.merge(t,fulldata)"
      ],
      "execution_count": 29,
      "outputs": []
    },
    {
      "cell_type": "code",
      "metadata": {
        "id": "tF8cBGpVnwih"
      },
      "source": [
        "#fulldata=fulldata.drop('frequency',axis=1)"
      ],
      "execution_count": 30,
      "outputs": []
    },
    {
      "cell_type": "code",
      "metadata": {
        "id": "sPoc-dLKl-mK"
      },
      "source": [
        "#fulldata['frequency1']=fulldata.constant_d.agg('count')"
      ],
      "execution_count": 31,
      "outputs": []
    },
    {
      "cell_type": "code",
      "metadata": {
        "id": "B2RMRXfendu9",
        "outputId": "f8956a72-1d59-472c-8990-15bcab642d2f",
        "colab": {
          "base_uri": "https://localhost:8080/",
          "height": 323
        }
      },
      "source": [
        "print(new_data.frequency.mean())\n",
        "new_data.head()"
      ],
      "execution_count": 32,
      "outputs": [
        {
          "output_type": "stream",
          "text": [
            "6.557435531546224\n"
          ],
          "name": "stdout"
        },
        {
          "output_type": "execute_result",
          "data": {
            "text/html": [
              "<div>\n",
              "<style scoped>\n",
              "    .dataframe tbody tr th:only-of-type {\n",
              "        vertical-align: middle;\n",
              "    }\n",
              "\n",
              "    .dataframe tbody tr th {\n",
              "        vertical-align: top;\n",
              "    }\n",
              "\n",
              "    .dataframe thead th {\n",
              "        text-align: right;\n",
              "    }\n",
              "</style>\n",
              "<table border=\"1\" class=\"dataframe\">\n",
              "  <thead>\n",
              "    <tr style=\"text-align: right;\">\n",
              "      <th></th>\n",
              "      <th>customer_id</th>\n",
              "      <th>frequency</th>\n",
              "      <th>first_name</th>\n",
              "      <th>last_name</th>\n",
              "      <th>gender</th>\n",
              "      <th>past_3_years_bike_related_purchases</th>\n",
              "      <th>DOB</th>\n",
              "      <th>job_title</th>\n",
              "      <th>job_industry_category</th>\n",
              "      <th>wealth_segment</th>\n",
              "      <th>deceased_indicator</th>\n",
              "      <th>owns_car</th>\n",
              "      <th>tenure</th>\n",
              "      <th>age</th>\n",
              "      <th>transaction_id</th>\n",
              "      <th>product_id</th>\n",
              "      <th>transaction_date</th>\n",
              "      <th>online_order</th>\n",
              "      <th>order_status</th>\n",
              "      <th>brand</th>\n",
              "      <th>product_line</th>\n",
              "      <th>product_class</th>\n",
              "      <th>product_size</th>\n",
              "      <th>list_price</th>\n",
              "      <th>standard_cost</th>\n",
              "      <th>product_first_sold_date</th>\n",
              "      <th>profit</th>\n",
              "      <th>constant_d</th>\n",
              "      <th>Recency</th>\n",
              "    </tr>\n",
              "  </thead>\n",
              "  <tbody>\n",
              "    <tr>\n",
              "      <th>0</th>\n",
              "      <td>1</td>\n",
              "      <td>11</td>\n",
              "      <td>Laraine</td>\n",
              "      <td>Medendorp</td>\n",
              "      <td>Female</td>\n",
              "      <td>93</td>\n",
              "      <td>1953-10-12</td>\n",
              "      <td>Executive Secretary</td>\n",
              "      <td>Health</td>\n",
              "      <td>Mass Customer</td>\n",
              "      <td>N</td>\n",
              "      <td>Yes</td>\n",
              "      <td>11.0</td>\n",
              "      <td>66.0</td>\n",
              "      <td>94</td>\n",
              "      <td>86</td>\n",
              "      <td>2017-12-23</td>\n",
              "      <td>FALSE</td>\n",
              "      <td>Approved</td>\n",
              "      <td>OHM Cycles</td>\n",
              "      <td>Standard</td>\n",
              "      <td>medium</td>\n",
              "      <td>medium</td>\n",
              "      <td>235.63</td>\n",
              "      <td>125.07</td>\n",
              "      <td>2005-05-10</td>\n",
              "      <td>111.0</td>\n",
              "      <td>2017-12-30</td>\n",
              "      <td>7 days</td>\n",
              "    </tr>\n",
              "    <tr>\n",
              "      <th>1</th>\n",
              "      <td>1</td>\n",
              "      <td>11</td>\n",
              "      <td>Laraine</td>\n",
              "      <td>Medendorp</td>\n",
              "      <td>Female</td>\n",
              "      <td>93</td>\n",
              "      <td>1953-10-12</td>\n",
              "      <td>Executive Secretary</td>\n",
              "      <td>Health</td>\n",
              "      <td>Mass Customer</td>\n",
              "      <td>N</td>\n",
              "      <td>Yes</td>\n",
              "      <td>11.0</td>\n",
              "      <td>66.0</td>\n",
              "      <td>3765</td>\n",
              "      <td>38</td>\n",
              "      <td>2017-04-06</td>\n",
              "      <td>TRUE</td>\n",
              "      <td>Approved</td>\n",
              "      <td>Solex</td>\n",
              "      <td>Standard</td>\n",
              "      <td>medium</td>\n",
              "      <td>medium</td>\n",
              "      <td>1577.53</td>\n",
              "      <td>826.51</td>\n",
              "      <td>2008-03-19</td>\n",
              "      <td>751.0</td>\n",
              "      <td>2017-12-30</td>\n",
              "      <td>268 days</td>\n",
              "    </tr>\n",
              "    <tr>\n",
              "      <th>2</th>\n",
              "      <td>1</td>\n",
              "      <td>11</td>\n",
              "      <td>Laraine</td>\n",
              "      <td>Medendorp</td>\n",
              "      <td>Female</td>\n",
              "      <td>93</td>\n",
              "      <td>1953-10-12</td>\n",
              "      <td>Executive Secretary</td>\n",
              "      <td>Health</td>\n",
              "      <td>Mass Customer</td>\n",
              "      <td>N</td>\n",
              "      <td>Yes</td>\n",
              "      <td>11.0</td>\n",
              "      <td>66.0</td>\n",
              "      <td>5157</td>\n",
              "      <td>47</td>\n",
              "      <td>2017-05-11</td>\n",
              "      <td>TRUE</td>\n",
              "      <td>Approved</td>\n",
              "      <td>Trek Bicycles</td>\n",
              "      <td>Road</td>\n",
              "      <td>low</td>\n",
              "      <td>small</td>\n",
              "      <td>1720.70</td>\n",
              "      <td>1531.42</td>\n",
              "      <td>2003-07-21</td>\n",
              "      <td>189.0</td>\n",
              "      <td>2017-12-30</td>\n",
              "      <td>233 days</td>\n",
              "    </tr>\n",
              "    <tr>\n",
              "      <th>3</th>\n",
              "      <td>1</td>\n",
              "      <td>11</td>\n",
              "      <td>Laraine</td>\n",
              "      <td>Medendorp</td>\n",
              "      <td>Female</td>\n",
              "      <td>93</td>\n",
              "      <td>1953-10-12</td>\n",
              "      <td>Executive Secretary</td>\n",
              "      <td>Health</td>\n",
              "      <td>Mass Customer</td>\n",
              "      <td>N</td>\n",
              "      <td>Yes</td>\n",
              "      <td>11.0</td>\n",
              "      <td>66.0</td>\n",
              "      <td>9785</td>\n",
              "      <td>72</td>\n",
              "      <td>2017-01-05</td>\n",
              "      <td>FALSE</td>\n",
              "      <td>Approved</td>\n",
              "      <td>Norco Bicycles</td>\n",
              "      <td>Standard</td>\n",
              "      <td>medium</td>\n",
              "      <td>medium</td>\n",
              "      <td>360.40</td>\n",
              "      <td>270.30</td>\n",
              "      <td>2003-09-09</td>\n",
              "      <td>90.0</td>\n",
              "      <td>2017-12-30</td>\n",
              "      <td>359 days</td>\n",
              "    </tr>\n",
              "    <tr>\n",
              "      <th>4</th>\n",
              "      <td>1</td>\n",
              "      <td>11</td>\n",
              "      <td>Laraine</td>\n",
              "      <td>Medendorp</td>\n",
              "      <td>Female</td>\n",
              "      <td>93</td>\n",
              "      <td>1953-10-12</td>\n",
              "      <td>Executive Secretary</td>\n",
              "      <td>Health</td>\n",
              "      <td>Mass Customer</td>\n",
              "      <td>N</td>\n",
              "      <td>Yes</td>\n",
              "      <td>11.0</td>\n",
              "      <td>66.0</td>\n",
              "      <td>13424</td>\n",
              "      <td>2</td>\n",
              "      <td>2017-02-21</td>\n",
              "      <td>FALSE</td>\n",
              "      <td>Approved</td>\n",
              "      <td>Solex</td>\n",
              "      <td>Standard</td>\n",
              "      <td>medium</td>\n",
              "      <td>medium</td>\n",
              "      <td>71.49</td>\n",
              "      <td>53.62</td>\n",
              "      <td>2005-08-09</td>\n",
              "      <td>18.0</td>\n",
              "      <td>2017-12-30</td>\n",
              "      <td>312 days</td>\n",
              "    </tr>\n",
              "  </tbody>\n",
              "</table>\n",
              "</div>"
            ],
            "text/plain": [
              "   customer_id  frequency first_name  ... profit  constant_d   Recency\n",
              "0            1         11    Laraine  ...  111.0  2017-12-30    7 days\n",
              "1            1         11    Laraine  ...  751.0  2017-12-30  268 days\n",
              "2            1         11    Laraine  ...  189.0  2017-12-30  233 days\n",
              "3            1         11    Laraine  ...   90.0  2017-12-30  359 days\n",
              "4            1         11    Laraine  ...   18.0  2017-12-30  312 days\n",
              "\n",
              "[5 rows x 29 columns]"
            ]
          },
          "metadata": {
            "tags": []
          },
          "execution_count": 32
        }
      ]
    },
    {
      "cell_type": "code",
      "metadata": {
        "id": "rT3tC_tmepE1",
        "outputId": "9629e8c7-9ba9-469c-d4a6-fbd56390fff5",
        "colab": {
          "base_uri": "https://localhost:8080/",
          "height": 394
        }
      },
      "source": [
        "print(new_data.agg({'transaction_date':[np.max,np.min]}))\n",
        "new_data[new_data['product_id']==3].head()\n"
      ],
      "execution_count": 33,
      "outputs": [
        {
          "output_type": "stream",
          "text": [
            "     transaction_date\n",
            "amax       2017-12-30\n",
            "amin       2017-01-01\n"
          ],
          "name": "stdout"
        },
        {
          "output_type": "execute_result",
          "data": {
            "text/html": [
              "<div>\n",
              "<style scoped>\n",
              "    .dataframe tbody tr th:only-of-type {\n",
              "        vertical-align: middle;\n",
              "    }\n",
              "\n",
              "    .dataframe tbody tr th {\n",
              "        vertical-align: top;\n",
              "    }\n",
              "\n",
              "    .dataframe thead th {\n",
              "        text-align: right;\n",
              "    }\n",
              "</style>\n",
              "<table border=\"1\" class=\"dataframe\">\n",
              "  <thead>\n",
              "    <tr style=\"text-align: right;\">\n",
              "      <th></th>\n",
              "      <th>customer_id</th>\n",
              "      <th>frequency</th>\n",
              "      <th>first_name</th>\n",
              "      <th>last_name</th>\n",
              "      <th>gender</th>\n",
              "      <th>past_3_years_bike_related_purchases</th>\n",
              "      <th>DOB</th>\n",
              "      <th>job_title</th>\n",
              "      <th>job_industry_category</th>\n",
              "      <th>wealth_segment</th>\n",
              "      <th>deceased_indicator</th>\n",
              "      <th>owns_car</th>\n",
              "      <th>tenure</th>\n",
              "      <th>age</th>\n",
              "      <th>transaction_id</th>\n",
              "      <th>product_id</th>\n",
              "      <th>transaction_date</th>\n",
              "      <th>online_order</th>\n",
              "      <th>order_status</th>\n",
              "      <th>brand</th>\n",
              "      <th>product_line</th>\n",
              "      <th>product_class</th>\n",
              "      <th>product_size</th>\n",
              "      <th>list_price</th>\n",
              "      <th>standard_cost</th>\n",
              "      <th>product_first_sold_date</th>\n",
              "      <th>profit</th>\n",
              "      <th>constant_d</th>\n",
              "      <th>Recency</th>\n",
              "    </tr>\n",
              "  </thead>\n",
              "  <tbody>\n",
              "    <tr>\n",
              "      <th>39</th>\n",
              "      <td>8</td>\n",
              "      <td>10</td>\n",
              "      <td>Rod</td>\n",
              "      <td>Inder</td>\n",
              "      <td>Male</td>\n",
              "      <td>31</td>\n",
              "      <td>1962-03-30</td>\n",
              "      <td>Media Manager I</td>\n",
              "      <td>missing</td>\n",
              "      <td>Mass Customer</td>\n",
              "      <td>N</td>\n",
              "      <td>No</td>\n",
              "      <td>7.0</td>\n",
              "      <td>58.0</td>\n",
              "      <td>5321</td>\n",
              "      <td>3</td>\n",
              "      <td>2017-12-08</td>\n",
              "      <td>TRUE</td>\n",
              "      <td>Approved</td>\n",
              "      <td>Trek Bicycles</td>\n",
              "      <td>Standard</td>\n",
              "      <td>medium</td>\n",
              "      <td>large</td>\n",
              "      <td>2091.47</td>\n",
              "      <td>388.92</td>\n",
              "      <td>2003-07-21</td>\n",
              "      <td>1703.0</td>\n",
              "      <td>2017-12-30</td>\n",
              "      <td>22 days</td>\n",
              "    </tr>\n",
              "    <tr>\n",
              "      <th>47</th>\n",
              "      <td>8</td>\n",
              "      <td>10</td>\n",
              "      <td>Rod</td>\n",
              "      <td>Inder</td>\n",
              "      <td>Male</td>\n",
              "      <td>31</td>\n",
              "      <td>1962-03-30</td>\n",
              "      <td>Media Manager I</td>\n",
              "      <td>missing</td>\n",
              "      <td>Mass Customer</td>\n",
              "      <td>N</td>\n",
              "      <td>No</td>\n",
              "      <td>7.0</td>\n",
              "      <td>58.0</td>\n",
              "      <td>19844</td>\n",
              "      <td>3</td>\n",
              "      <td>2017-01-28</td>\n",
              "      <td>missing</td>\n",
              "      <td>Approved</td>\n",
              "      <td>Trek Bicycles</td>\n",
              "      <td>Standard</td>\n",
              "      <td>medium</td>\n",
              "      <td>large</td>\n",
              "      <td>2091.47</td>\n",
              "      <td>388.92</td>\n",
              "      <td>2003-07-21</td>\n",
              "      <td>1703.0</td>\n",
              "      <td>2017-12-30</td>\n",
              "      <td>336 days</td>\n",
              "    </tr>\n",
              "    <tr>\n",
              "      <th>88</th>\n",
              "      <td>16</td>\n",
              "      <td>5</td>\n",
              "      <td>Harlin</td>\n",
              "      <td>Parr</td>\n",
              "      <td>Male</td>\n",
              "      <td>38</td>\n",
              "      <td>1977-02-27</td>\n",
              "      <td>Media Manager IV</td>\n",
              "      <td>missing</td>\n",
              "      <td>Mass Customer</td>\n",
              "      <td>N</td>\n",
              "      <td>Yes</td>\n",
              "      <td>18.0</td>\n",
              "      <td>43.0</td>\n",
              "      <td>1405</td>\n",
              "      <td>3</td>\n",
              "      <td>2017-08-17</td>\n",
              "      <td>FALSE</td>\n",
              "      <td>Approved</td>\n",
              "      <td>Trek Bicycles</td>\n",
              "      <td>Standard</td>\n",
              "      <td>medium</td>\n",
              "      <td>large</td>\n",
              "      <td>2091.47</td>\n",
              "      <td>388.92</td>\n",
              "      <td>2001-11-25</td>\n",
              "      <td>1703.0</td>\n",
              "      <td>2017-12-30</td>\n",
              "      <td>135 days</td>\n",
              "    </tr>\n",
              "    <tr>\n",
              "      <th>111</th>\n",
              "      <td>20</td>\n",
              "      <td>4</td>\n",
              "      <td>Basile</td>\n",
              "      <td>Firth</td>\n",
              "      <td>Male</td>\n",
              "      <td>72</td>\n",
              "      <td>1980-08-13</td>\n",
              "      <td>Project Manager</td>\n",
              "      <td>Manufacturing</td>\n",
              "      <td>Mass Customer</td>\n",
              "      <td>N</td>\n",
              "      <td>No</td>\n",
              "      <td>11.0</td>\n",
              "      <td>40.0</td>\n",
              "      <td>18030</td>\n",
              "      <td>3</td>\n",
              "      <td>2017-06-11</td>\n",
              "      <td>FALSE</td>\n",
              "      <td>Approved</td>\n",
              "      <td>Trek Bicycles</td>\n",
              "      <td>Standard</td>\n",
              "      <td>medium</td>\n",
              "      <td>large</td>\n",
              "      <td>2091.47</td>\n",
              "      <td>388.92</td>\n",
              "      <td>2002-08-31</td>\n",
              "      <td>1703.0</td>\n",
              "      <td>2017-12-30</td>\n",
              "      <td>202 days</td>\n",
              "    </tr>\n",
              "    <tr>\n",
              "      <th>113</th>\n",
              "      <td>21</td>\n",
              "      <td>5</td>\n",
              "      <td>Mile</td>\n",
              "      <td>Cammocke</td>\n",
              "      <td>Male</td>\n",
              "      <td>74</td>\n",
              "      <td>1980-09-20</td>\n",
              "      <td>Safety Technician I</td>\n",
              "      <td>Manufacturing</td>\n",
              "      <td>Affluent Customer</td>\n",
              "      <td>N</td>\n",
              "      <td>Yes</td>\n",
              "      <td>16.0</td>\n",
              "      <td>40.0</td>\n",
              "      <td>4778</td>\n",
              "      <td>3</td>\n",
              "      <td>2017-10-22</td>\n",
              "      <td>FALSE</td>\n",
              "      <td>Approved</td>\n",
              "      <td>Trek Bicycles</td>\n",
              "      <td>Standard</td>\n",
              "      <td>medium</td>\n",
              "      <td>large</td>\n",
              "      <td>2091.47</td>\n",
              "      <td>388.92</td>\n",
              "      <td>2014-03-03</td>\n",
              "      <td>1703.0</td>\n",
              "      <td>2017-12-30</td>\n",
              "      <td>69 days</td>\n",
              "    </tr>\n",
              "  </tbody>\n",
              "</table>\n",
              "</div>"
            ],
            "text/plain": [
              "     customer_id  frequency first_name  ...  profit  constant_d   Recency\n",
              "39             8         10        Rod  ...  1703.0  2017-12-30   22 days\n",
              "47             8         10        Rod  ...  1703.0  2017-12-30  336 days\n",
              "88            16          5     Harlin  ...  1703.0  2017-12-30  135 days\n",
              "111           20          4     Basile  ...  1703.0  2017-12-30  202 days\n",
              "113           21          5       Mile  ...  1703.0  2017-12-30   69 days\n",
              "\n",
              "[5 rows x 29 columns]"
            ]
          },
          "metadata": {
            "tags": []
          },
          "execution_count": 33
        }
      ]
    },
    {
      "cell_type": "code",
      "metadata": {
        "id": "E1cOIpSLo9YJ",
        "outputId": "839fe5dd-ace2-4397-85c4-a1a571dcb25b",
        "colab": {
          "base_uri": "https://localhost:8080/",
          "height": 198
        }
      },
      "source": [
        "m=pd.DataFrame(fulldata.groupby('customer_id')['profit'].agg('sum'))\n",
        "m.reset_index(inplace=True)\n",
        "m.columns=['customer_id','sum_profit']\n",
        "m.head()\n"
      ],
      "execution_count": 34,
      "outputs": [
        {
          "output_type": "execute_result",
          "data": {
            "text/html": [
              "<div>\n",
              "<style scoped>\n",
              "    .dataframe tbody tr th:only-of-type {\n",
              "        vertical-align: middle;\n",
              "    }\n",
              "\n",
              "    .dataframe tbody tr th {\n",
              "        vertical-align: top;\n",
              "    }\n",
              "\n",
              "    .dataframe thead th {\n",
              "        text-align: right;\n",
              "    }\n",
              "</style>\n",
              "<table border=\"1\" class=\"dataframe\">\n",
              "  <thead>\n",
              "    <tr style=\"text-align: right;\">\n",
              "      <th></th>\n",
              "      <th>customer_id</th>\n",
              "      <th>sum_profit</th>\n",
              "    </tr>\n",
              "  </thead>\n",
              "  <tbody>\n",
              "    <tr>\n",
              "      <th>0</th>\n",
              "      <td>1</td>\n",
              "      <td>3018.0</td>\n",
              "    </tr>\n",
              "    <tr>\n",
              "      <th>1</th>\n",
              "      <td>2</td>\n",
              "      <td>2226.0</td>\n",
              "    </tr>\n",
              "    <tr>\n",
              "      <th>2</th>\n",
              "      <td>3</td>\n",
              "      <td>3362.0</td>\n",
              "    </tr>\n",
              "    <tr>\n",
              "      <th>3</th>\n",
              "      <td>4</td>\n",
              "      <td>220.0</td>\n",
              "    </tr>\n",
              "    <tr>\n",
              "      <th>4</th>\n",
              "      <td>5</td>\n",
              "      <td>2395.0</td>\n",
              "    </tr>\n",
              "  </tbody>\n",
              "</table>\n",
              "</div>"
            ],
            "text/plain": [
              "   customer_id  sum_profit\n",
              "0            1      3018.0\n",
              "1            2      2226.0\n",
              "2            3      3362.0\n",
              "3            4       220.0\n",
              "4            5      2395.0"
            ]
          },
          "metadata": {
            "tags": []
          },
          "execution_count": 34
        }
      ]
    },
    {
      "cell_type": "code",
      "metadata": {
        "id": "fp1hdsiIThLo"
      },
      "source": [
        "new_data2=pd.merge(new_data,m)"
      ],
      "execution_count": 35,
      "outputs": []
    },
    {
      "cell_type": "code",
      "metadata": {
        "id": "jnyUcSMv5iSX"
      },
      "source": [
        ""
      ],
      "execution_count": 35,
      "outputs": []
    },
    {
      "cell_type": "code",
      "metadata": {
        "id": "fVgYR7Wx37ho",
        "outputId": "de73ebee-c01f-4fb0-e4e1-46731cf8c2df",
        "colab": {
          "base_uri": "https://localhost:8080/",
          "height": 126
        }
      },
      "source": [
        "print(new_data2.Recency.max())\n",
        "new_data2.Recency.describe()\n",
        "#min recency is \"0\""
      ],
      "execution_count": 36,
      "outputs": [
        {
          "output_type": "stream",
          "text": [
            "99 days\n"
          ],
          "name": "stdout"
        },
        {
          "output_type": "execute_result",
          "data": {
            "text/plain": [
              "count        19622\n",
              "unique         364\n",
              "top       134 days\n",
              "freq            82\n",
              "Name: Recency, dtype: object"
            ]
          },
          "metadata": {
            "tags": []
          },
          "execution_count": 36
        }
      ]
    },
    {
      "cell_type": "code",
      "metadata": {
        "id": "aUiWBf2YWl8z",
        "outputId": "028bed18-efac-41df-8624-0334a76b3f0c",
        "colab": {
          "base_uri": "https://localhost:8080/",
          "height": 305
        }
      },
      "source": [
        "new_data2.head()"
      ],
      "execution_count": 37,
      "outputs": [
        {
          "output_type": "execute_result",
          "data": {
            "text/html": [
              "<div>\n",
              "<style scoped>\n",
              "    .dataframe tbody tr th:only-of-type {\n",
              "        vertical-align: middle;\n",
              "    }\n",
              "\n",
              "    .dataframe tbody tr th {\n",
              "        vertical-align: top;\n",
              "    }\n",
              "\n",
              "    .dataframe thead th {\n",
              "        text-align: right;\n",
              "    }\n",
              "</style>\n",
              "<table border=\"1\" class=\"dataframe\">\n",
              "  <thead>\n",
              "    <tr style=\"text-align: right;\">\n",
              "      <th></th>\n",
              "      <th>customer_id</th>\n",
              "      <th>frequency</th>\n",
              "      <th>first_name</th>\n",
              "      <th>last_name</th>\n",
              "      <th>gender</th>\n",
              "      <th>past_3_years_bike_related_purchases</th>\n",
              "      <th>DOB</th>\n",
              "      <th>job_title</th>\n",
              "      <th>job_industry_category</th>\n",
              "      <th>wealth_segment</th>\n",
              "      <th>deceased_indicator</th>\n",
              "      <th>owns_car</th>\n",
              "      <th>tenure</th>\n",
              "      <th>age</th>\n",
              "      <th>transaction_id</th>\n",
              "      <th>product_id</th>\n",
              "      <th>transaction_date</th>\n",
              "      <th>online_order</th>\n",
              "      <th>order_status</th>\n",
              "      <th>brand</th>\n",
              "      <th>product_line</th>\n",
              "      <th>product_class</th>\n",
              "      <th>product_size</th>\n",
              "      <th>list_price</th>\n",
              "      <th>standard_cost</th>\n",
              "      <th>product_first_sold_date</th>\n",
              "      <th>profit</th>\n",
              "      <th>constant_d</th>\n",
              "      <th>Recency</th>\n",
              "      <th>sum_profit</th>\n",
              "    </tr>\n",
              "  </thead>\n",
              "  <tbody>\n",
              "    <tr>\n",
              "      <th>0</th>\n",
              "      <td>1</td>\n",
              "      <td>11</td>\n",
              "      <td>Laraine</td>\n",
              "      <td>Medendorp</td>\n",
              "      <td>Female</td>\n",
              "      <td>93</td>\n",
              "      <td>1953-10-12</td>\n",
              "      <td>Executive Secretary</td>\n",
              "      <td>Health</td>\n",
              "      <td>Mass Customer</td>\n",
              "      <td>N</td>\n",
              "      <td>Yes</td>\n",
              "      <td>11.0</td>\n",
              "      <td>66.0</td>\n",
              "      <td>94</td>\n",
              "      <td>86</td>\n",
              "      <td>2017-12-23</td>\n",
              "      <td>FALSE</td>\n",
              "      <td>Approved</td>\n",
              "      <td>OHM Cycles</td>\n",
              "      <td>Standard</td>\n",
              "      <td>medium</td>\n",
              "      <td>medium</td>\n",
              "      <td>235.63</td>\n",
              "      <td>125.07</td>\n",
              "      <td>2005-05-10</td>\n",
              "      <td>111.0</td>\n",
              "      <td>2017-12-30</td>\n",
              "      <td>7 days</td>\n",
              "      <td>3018.0</td>\n",
              "    </tr>\n",
              "    <tr>\n",
              "      <th>1</th>\n",
              "      <td>1</td>\n",
              "      <td>11</td>\n",
              "      <td>Laraine</td>\n",
              "      <td>Medendorp</td>\n",
              "      <td>Female</td>\n",
              "      <td>93</td>\n",
              "      <td>1953-10-12</td>\n",
              "      <td>Executive Secretary</td>\n",
              "      <td>Health</td>\n",
              "      <td>Mass Customer</td>\n",
              "      <td>N</td>\n",
              "      <td>Yes</td>\n",
              "      <td>11.0</td>\n",
              "      <td>66.0</td>\n",
              "      <td>3765</td>\n",
              "      <td>38</td>\n",
              "      <td>2017-04-06</td>\n",
              "      <td>TRUE</td>\n",
              "      <td>Approved</td>\n",
              "      <td>Solex</td>\n",
              "      <td>Standard</td>\n",
              "      <td>medium</td>\n",
              "      <td>medium</td>\n",
              "      <td>1577.53</td>\n",
              "      <td>826.51</td>\n",
              "      <td>2008-03-19</td>\n",
              "      <td>751.0</td>\n",
              "      <td>2017-12-30</td>\n",
              "      <td>268 days</td>\n",
              "      <td>3018.0</td>\n",
              "    </tr>\n",
              "    <tr>\n",
              "      <th>2</th>\n",
              "      <td>1</td>\n",
              "      <td>11</td>\n",
              "      <td>Laraine</td>\n",
              "      <td>Medendorp</td>\n",
              "      <td>Female</td>\n",
              "      <td>93</td>\n",
              "      <td>1953-10-12</td>\n",
              "      <td>Executive Secretary</td>\n",
              "      <td>Health</td>\n",
              "      <td>Mass Customer</td>\n",
              "      <td>N</td>\n",
              "      <td>Yes</td>\n",
              "      <td>11.0</td>\n",
              "      <td>66.0</td>\n",
              "      <td>5157</td>\n",
              "      <td>47</td>\n",
              "      <td>2017-05-11</td>\n",
              "      <td>TRUE</td>\n",
              "      <td>Approved</td>\n",
              "      <td>Trek Bicycles</td>\n",
              "      <td>Road</td>\n",
              "      <td>low</td>\n",
              "      <td>small</td>\n",
              "      <td>1720.70</td>\n",
              "      <td>1531.42</td>\n",
              "      <td>2003-07-21</td>\n",
              "      <td>189.0</td>\n",
              "      <td>2017-12-30</td>\n",
              "      <td>233 days</td>\n",
              "      <td>3018.0</td>\n",
              "    </tr>\n",
              "    <tr>\n",
              "      <th>3</th>\n",
              "      <td>1</td>\n",
              "      <td>11</td>\n",
              "      <td>Laraine</td>\n",
              "      <td>Medendorp</td>\n",
              "      <td>Female</td>\n",
              "      <td>93</td>\n",
              "      <td>1953-10-12</td>\n",
              "      <td>Executive Secretary</td>\n",
              "      <td>Health</td>\n",
              "      <td>Mass Customer</td>\n",
              "      <td>N</td>\n",
              "      <td>Yes</td>\n",
              "      <td>11.0</td>\n",
              "      <td>66.0</td>\n",
              "      <td>9785</td>\n",
              "      <td>72</td>\n",
              "      <td>2017-01-05</td>\n",
              "      <td>FALSE</td>\n",
              "      <td>Approved</td>\n",
              "      <td>Norco Bicycles</td>\n",
              "      <td>Standard</td>\n",
              "      <td>medium</td>\n",
              "      <td>medium</td>\n",
              "      <td>360.40</td>\n",
              "      <td>270.30</td>\n",
              "      <td>2003-09-09</td>\n",
              "      <td>90.0</td>\n",
              "      <td>2017-12-30</td>\n",
              "      <td>359 days</td>\n",
              "      <td>3018.0</td>\n",
              "    </tr>\n",
              "    <tr>\n",
              "      <th>4</th>\n",
              "      <td>1</td>\n",
              "      <td>11</td>\n",
              "      <td>Laraine</td>\n",
              "      <td>Medendorp</td>\n",
              "      <td>Female</td>\n",
              "      <td>93</td>\n",
              "      <td>1953-10-12</td>\n",
              "      <td>Executive Secretary</td>\n",
              "      <td>Health</td>\n",
              "      <td>Mass Customer</td>\n",
              "      <td>N</td>\n",
              "      <td>Yes</td>\n",
              "      <td>11.0</td>\n",
              "      <td>66.0</td>\n",
              "      <td>13424</td>\n",
              "      <td>2</td>\n",
              "      <td>2017-02-21</td>\n",
              "      <td>FALSE</td>\n",
              "      <td>Approved</td>\n",
              "      <td>Solex</td>\n",
              "      <td>Standard</td>\n",
              "      <td>medium</td>\n",
              "      <td>medium</td>\n",
              "      <td>71.49</td>\n",
              "      <td>53.62</td>\n",
              "      <td>2005-08-09</td>\n",
              "      <td>18.0</td>\n",
              "      <td>2017-12-30</td>\n",
              "      <td>312 days</td>\n",
              "      <td>3018.0</td>\n",
              "    </tr>\n",
              "  </tbody>\n",
              "</table>\n",
              "</div>"
            ],
            "text/plain": [
              "   customer_id  frequency first_name  ...  constant_d   Recency  sum_profit\n",
              "0            1         11    Laraine  ...  2017-12-30    7 days      3018.0\n",
              "1            1         11    Laraine  ...  2017-12-30  268 days      3018.0\n",
              "2            1         11    Laraine  ...  2017-12-30  233 days      3018.0\n",
              "3            1         11    Laraine  ...  2017-12-30  359 days      3018.0\n",
              "4            1         11    Laraine  ...  2017-12-30  312 days      3018.0\n",
              "\n",
              "[5 rows x 30 columns]"
            ]
          },
          "metadata": {
            "tags": []
          },
          "execution_count": 37
        }
      ]
    },
    {
      "cell_type": "code",
      "metadata": {
        "id": "lHF36AlWs0f4",
        "outputId": "2d9b0d01-63be-4a4b-c1cd-f37f23471446",
        "colab": {
          "base_uri": "https://localhost:8080/",
          "height": 199
        }
      },
      "source": [
        "print(new_data2.customer_id.nunique())\n",
        "new_data2.columns"
      ],
      "execution_count": 38,
      "outputs": [
        {
          "output_type": "stream",
          "text": [
            "3492\n"
          ],
          "name": "stdout"
        },
        {
          "output_type": "execute_result",
          "data": {
            "text/plain": [
              "Index(['customer_id', 'frequency', 'first_name', 'last_name', 'gender',\n",
              "       'past_3_years_bike_related_purchases', 'DOB', 'job_title',\n",
              "       'job_industry_category', 'wealth_segment', 'deceased_indicator',\n",
              "       'owns_car', 'tenure', 'age', 'transaction_id', 'product_id',\n",
              "       'transaction_date', 'online_order', 'order_status', 'brand',\n",
              "       'product_line', 'product_class', 'product_size', 'list_price',\n",
              "       'standard_cost', 'product_first_sold_date', 'profit', 'constant_d',\n",
              "       'Recency', 'sum_profit'],\n",
              "      dtype='object')"
            ]
          },
          "metadata": {
            "tags": []
          },
          "execution_count": 38
        }
      ]
    },
    {
      "cell_type": "code",
      "metadata": {
        "id": "-d9sg5cUsuJB",
        "outputId": "2496405f-4bcb-40dd-d537-be37fcb37498",
        "colab": {
          "base_uri": "https://localhost:8080/",
          "height": 1000
        }
      },
      "source": [
        "new_data2.sort_values('customer_id',inplace=True)\n",
        "# making a bool series \n",
        "bool_series =new_data2[\"customer_id\"].duplicated(keep = 'first')\n",
        "# bool series \n",
        "bool_series \n",
        "# passing NOT of bool series to see unique values only \n",
        "data_u = new_data2[~bool_series]\n",
        "# displaying data \n",
        "data_u.info() \n",
        "data_u "
      ],
      "execution_count": 39,
      "outputs": [
        {
          "output_type": "stream",
          "text": [
            "<class 'pandas.core.frame.DataFrame'>\n",
            "Int64Index: 3492 entries, 0 to 19619\n",
            "Data columns (total 30 columns):\n",
            " #   Column                               Non-Null Count  Dtype  \n",
            "---  ------                               --------------  -----  \n",
            " 0   customer_id                          3492 non-null   int64  \n",
            " 1   frequency                            3492 non-null   int64  \n",
            " 2   first_name                           3492 non-null   object \n",
            " 3   last_name                            3492 non-null   object \n",
            " 4   gender                               3492 non-null   object \n",
            " 5   past_3_years_bike_related_purchases  3492 non-null   int64  \n",
            " 6   DOB                                  3416 non-null   object \n",
            " 7   job_title                            3492 non-null   object \n",
            " 8   job_industry_category                3492 non-null   object \n",
            " 9   wealth_segment                       3492 non-null   object \n",
            " 10  deceased_indicator                   3492 non-null   object \n",
            " 11  owns_car                             3492 non-null   object \n",
            " 12  tenure                               3416 non-null   float64\n",
            " 13  age                                  3416 non-null   float64\n",
            " 14  transaction_id                       3492 non-null   int64  \n",
            " 15  product_id                           3492 non-null   int64  \n",
            " 16  transaction_date                     3492 non-null   object \n",
            " 17  online_order                         3492 non-null   object \n",
            " 18  order_status                         3492 non-null   object \n",
            " 19  brand                                3492 non-null   object \n",
            " 20  product_line                         3492 non-null   object \n",
            " 21  product_class                        3492 non-null   object \n",
            " 22  product_size                         3492 non-null   object \n",
            " 23  list_price                           3492 non-null   float64\n",
            " 24  standard_cost                        3492 non-null   float64\n",
            " 25  product_first_sold_date              3492 non-null   object \n",
            " 26  profit                               3492 non-null   float64\n",
            " 27  constant_d                           3492 non-null   object \n",
            " 28  Recency                              3492 non-null   object \n",
            " 29  sum_profit                           3492 non-null   float64\n",
            "dtypes: float64(6), int64(5), object(19)\n",
            "memory usage: 845.7+ KB\n"
          ],
          "name": "stdout"
        },
        {
          "output_type": "execute_result",
          "data": {
            "text/html": [
              "<div>\n",
              "<style scoped>\n",
              "    .dataframe tbody tr th:only-of-type {\n",
              "        vertical-align: middle;\n",
              "    }\n",
              "\n",
              "    .dataframe tbody tr th {\n",
              "        vertical-align: top;\n",
              "    }\n",
              "\n",
              "    .dataframe thead th {\n",
              "        text-align: right;\n",
              "    }\n",
              "</style>\n",
              "<table border=\"1\" class=\"dataframe\">\n",
              "  <thead>\n",
              "    <tr style=\"text-align: right;\">\n",
              "      <th></th>\n",
              "      <th>customer_id</th>\n",
              "      <th>frequency</th>\n",
              "      <th>first_name</th>\n",
              "      <th>last_name</th>\n",
              "      <th>gender</th>\n",
              "      <th>past_3_years_bike_related_purchases</th>\n",
              "      <th>DOB</th>\n",
              "      <th>job_title</th>\n",
              "      <th>job_industry_category</th>\n",
              "      <th>wealth_segment</th>\n",
              "      <th>deceased_indicator</th>\n",
              "      <th>owns_car</th>\n",
              "      <th>tenure</th>\n",
              "      <th>age</th>\n",
              "      <th>transaction_id</th>\n",
              "      <th>product_id</th>\n",
              "      <th>transaction_date</th>\n",
              "      <th>online_order</th>\n",
              "      <th>order_status</th>\n",
              "      <th>brand</th>\n",
              "      <th>product_line</th>\n",
              "      <th>product_class</th>\n",
              "      <th>product_size</th>\n",
              "      <th>list_price</th>\n",
              "      <th>standard_cost</th>\n",
              "      <th>product_first_sold_date</th>\n",
              "      <th>profit</th>\n",
              "      <th>constant_d</th>\n",
              "      <th>Recency</th>\n",
              "      <th>sum_profit</th>\n",
              "    </tr>\n",
              "  </thead>\n",
              "  <tbody>\n",
              "    <tr>\n",
              "      <th>0</th>\n",
              "      <td>1</td>\n",
              "      <td>11</td>\n",
              "      <td>Laraine</td>\n",
              "      <td>Medendorp</td>\n",
              "      <td>Female</td>\n",
              "      <td>93</td>\n",
              "      <td>1953-10-12</td>\n",
              "      <td>Executive Secretary</td>\n",
              "      <td>Health</td>\n",
              "      <td>Mass Customer</td>\n",
              "      <td>N</td>\n",
              "      <td>Yes</td>\n",
              "      <td>11.0</td>\n",
              "      <td>66.0</td>\n",
              "      <td>94</td>\n",
              "      <td>86</td>\n",
              "      <td>2017-12-23</td>\n",
              "      <td>FALSE</td>\n",
              "      <td>Approved</td>\n",
              "      <td>OHM Cycles</td>\n",
              "      <td>Standard</td>\n",
              "      <td>medium</td>\n",
              "      <td>medium</td>\n",
              "      <td>235.63</td>\n",
              "      <td>125.07</td>\n",
              "      <td>2005-05-10</td>\n",
              "      <td>111.0</td>\n",
              "      <td>2017-12-30</td>\n",
              "      <td>7 days</td>\n",
              "      <td>3018.0</td>\n",
              "    </tr>\n",
              "    <tr>\n",
              "      <th>11</th>\n",
              "      <td>2</td>\n",
              "      <td>3</td>\n",
              "      <td>Eli</td>\n",
              "      <td>Bockman</td>\n",
              "      <td>Male</td>\n",
              "      <td>81</td>\n",
              "      <td>1980-12-16</td>\n",
              "      <td>Administrative Officer</td>\n",
              "      <td>Financial Services</td>\n",
              "      <td>Mass Customer</td>\n",
              "      <td>N</td>\n",
              "      <td>Yes</td>\n",
              "      <td>16.0</td>\n",
              "      <td>39.0</td>\n",
              "      <td>2261</td>\n",
              "      <td>1</td>\n",
              "      <td>2017-05-04</td>\n",
              "      <td>TRUE</td>\n",
              "      <td>Approved</td>\n",
              "      <td>Giant Bicycles</td>\n",
              "      <td>Standard</td>\n",
              "      <td>medium</td>\n",
              "      <td>medium</td>\n",
              "      <td>1403.50</td>\n",
              "      <td>954.82</td>\n",
              "      <td>2011-08-29</td>\n",
              "      <td>449.0</td>\n",
              "      <td>2017-12-30</td>\n",
              "      <td>240 days</td>\n",
              "      <td>2226.0</td>\n",
              "    </tr>\n",
              "    <tr>\n",
              "      <th>19</th>\n",
              "      <td>3</td>\n",
              "      <td>8</td>\n",
              "      <td>Arlin</td>\n",
              "      <td>Dearle</td>\n",
              "      <td>Male</td>\n",
              "      <td>61</td>\n",
              "      <td>1954-01-20</td>\n",
              "      <td>Recruiting Manager</td>\n",
              "      <td>Property</td>\n",
              "      <td>Mass Customer</td>\n",
              "      <td>N</td>\n",
              "      <td>Yes</td>\n",
              "      <td>15.0</td>\n",
              "      <td>66.0</td>\n",
              "      <td>15188</td>\n",
              "      <td>82</td>\n",
              "      <td>2017-03-24</td>\n",
              "      <td>FALSE</td>\n",
              "      <td>Approved</td>\n",
              "      <td>Norco Bicycles</td>\n",
              "      <td>Standard</td>\n",
              "      <td>high</td>\n",
              "      <td>medium</td>\n",
              "      <td>1148.64</td>\n",
              "      <td>689.18</td>\n",
              "      <td>2002-08-31</td>\n",
              "      <td>459.0</td>\n",
              "      <td>2017-12-30</td>\n",
              "      <td>281 days</td>\n",
              "      <td>3362.0</td>\n",
              "    </tr>\n",
              "    <tr>\n",
              "      <th>22</th>\n",
              "      <td>4</td>\n",
              "      <td>2</td>\n",
              "      <td>Talbot</td>\n",
              "      <td>missing</td>\n",
              "      <td>Male</td>\n",
              "      <td>33</td>\n",
              "      <td>1961-10-03</td>\n",
              "      <td>missing</td>\n",
              "      <td>IT</td>\n",
              "      <td>Mass Customer</td>\n",
              "      <td>N</td>\n",
              "      <td>No</td>\n",
              "      <td>7.0</td>\n",
              "      <td>59.0</td>\n",
              "      <td>12441</td>\n",
              "      <td>95</td>\n",
              "      <td>2017-04-03</td>\n",
              "      <td>FALSE</td>\n",
              "      <td>Approved</td>\n",
              "      <td>Giant Bicycles</td>\n",
              "      <td>Standard</td>\n",
              "      <td>medium</td>\n",
              "      <td>large</td>\n",
              "      <td>569.56</td>\n",
              "      <td>528.43</td>\n",
              "      <td>2003-09-10</td>\n",
              "      <td>41.0</td>\n",
              "      <td>2017-12-30</td>\n",
              "      <td>271 days</td>\n",
              "      <td>220.0</td>\n",
              "    </tr>\n",
              "    <tr>\n",
              "      <th>29</th>\n",
              "      <td>5</td>\n",
              "      <td>6</td>\n",
              "      <td>Sheila-kathryn</td>\n",
              "      <td>Calton</td>\n",
              "      <td>Female</td>\n",
              "      <td>56</td>\n",
              "      <td>1977-05-13</td>\n",
              "      <td>Senior Editor</td>\n",
              "      <td>missing</td>\n",
              "      <td>Affluent Customer</td>\n",
              "      <td>N</td>\n",
              "      <td>Yes</td>\n",
              "      <td>8.0</td>\n",
              "      <td>43.0</td>\n",
              "      <td>19993</td>\n",
              "      <td>13</td>\n",
              "      <td>2017-04-28</td>\n",
              "      <td>FALSE</td>\n",
              "      <td>Approved</td>\n",
              "      <td>Solex</td>\n",
              "      <td>Standard</td>\n",
              "      <td>medium</td>\n",
              "      <td>medium</td>\n",
              "      <td>1163.89</td>\n",
              "      <td>589.27</td>\n",
              "      <td>2009-03-08</td>\n",
              "      <td>575.0</td>\n",
              "      <td>2017-12-30</td>\n",
              "      <td>246 days</td>\n",
              "      <td>2395.0</td>\n",
              "    </tr>\n",
              "    <tr>\n",
              "      <th>...</th>\n",
              "      <td>...</td>\n",
              "      <td>...</td>\n",
              "      <td>...</td>\n",
              "      <td>...</td>\n",
              "      <td>...</td>\n",
              "      <td>...</td>\n",
              "      <td>...</td>\n",
              "      <td>...</td>\n",
              "      <td>...</td>\n",
              "      <td>...</td>\n",
              "      <td>...</td>\n",
              "      <td>...</td>\n",
              "      <td>...</td>\n",
              "      <td>...</td>\n",
              "      <td>...</td>\n",
              "      <td>...</td>\n",
              "      <td>...</td>\n",
              "      <td>...</td>\n",
              "      <td>...</td>\n",
              "      <td>...</td>\n",
              "      <td>...</td>\n",
              "      <td>...</td>\n",
              "      <td>...</td>\n",
              "      <td>...</td>\n",
              "      <td>...</td>\n",
              "      <td>...</td>\n",
              "      <td>...</td>\n",
              "      <td>...</td>\n",
              "      <td>...</td>\n",
              "      <td>...</td>\n",
              "    </tr>\n",
              "    <tr>\n",
              "      <th>19596</th>\n",
              "      <td>3496</td>\n",
              "      <td>4</td>\n",
              "      <td>Danya</td>\n",
              "      <td>Burnyeat</td>\n",
              "      <td>Male</td>\n",
              "      <td>99</td>\n",
              "      <td>1986-04-25</td>\n",
              "      <td>Editor</td>\n",
              "      <td>Manufacturing</td>\n",
              "      <td>Mass Customer</td>\n",
              "      <td>N</td>\n",
              "      <td>Yes</td>\n",
              "      <td>19.0</td>\n",
              "      <td>34.0</td>\n",
              "      <td>3479</td>\n",
              "      <td>73</td>\n",
              "      <td>2017-04-18</td>\n",
              "      <td>TRUE</td>\n",
              "      <td>Approved</td>\n",
              "      <td>Solex</td>\n",
              "      <td>Standard</td>\n",
              "      <td>medium</td>\n",
              "      <td>medium</td>\n",
              "      <td>1945.43</td>\n",
              "      <td>333.18</td>\n",
              "      <td>2014-10-10</td>\n",
              "      <td>1612.0</td>\n",
              "      <td>2017-12-30</td>\n",
              "      <td>256 days</td>\n",
              "      <td>2046.0</td>\n",
              "    </tr>\n",
              "    <tr>\n",
              "      <th>19602</th>\n",
              "      <td>3497</td>\n",
              "      <td>3</td>\n",
              "      <td>Thia</td>\n",
              "      <td>O'Day</td>\n",
              "      <td>Female</td>\n",
              "      <td>73</td>\n",
              "      <td>1986-05-03</td>\n",
              "      <td>Administrative Assistant IV</td>\n",
              "      <td>Manufacturing</td>\n",
              "      <td>Affluent Customer</td>\n",
              "      <td>N</td>\n",
              "      <td>Yes</td>\n",
              "      <td>18.0</td>\n",
              "      <td>34.0</td>\n",
              "      <td>10493</td>\n",
              "      <td>78</td>\n",
              "      <td>2017-09-12</td>\n",
              "      <td>FALSE</td>\n",
              "      <td>Approved</td>\n",
              "      <td>Giant Bicycles</td>\n",
              "      <td>Standard</td>\n",
              "      <td>medium</td>\n",
              "      <td>large</td>\n",
              "      <td>1765.30</td>\n",
              "      <td>709.48</td>\n",
              "      <td>2004-07-25</td>\n",
              "      <td>1056.0</td>\n",
              "      <td>2017-12-30</td>\n",
              "      <td>109 days</td>\n",
              "      <td>1649.0</td>\n",
              "    </tr>\n",
              "    <tr>\n",
              "      <th>19603</th>\n",
              "      <td>3498</td>\n",
              "      <td>6</td>\n",
              "      <td>Lois</td>\n",
              "      <td>Abrahim</td>\n",
              "      <td>Female</td>\n",
              "      <td>28</td>\n",
              "      <td>1995-11-02</td>\n",
              "      <td>missing</td>\n",
              "      <td>Manufacturing</td>\n",
              "      <td>Mass Customer</td>\n",
              "      <td>N</td>\n",
              "      <td>No</td>\n",
              "      <td>5.0</td>\n",
              "      <td>24.0</td>\n",
              "      <td>1244</td>\n",
              "      <td>50</td>\n",
              "      <td>2017-02-21</td>\n",
              "      <td>TRUE</td>\n",
              "      <td>Approved</td>\n",
              "      <td>WeareA2B</td>\n",
              "      <td>Standard</td>\n",
              "      <td>medium</td>\n",
              "      <td>small</td>\n",
              "      <td>175.89</td>\n",
              "      <td>131.92</td>\n",
              "      <td>2003-02-16</td>\n",
              "      <td>44.0</td>\n",
              "      <td>2017-12-30</td>\n",
              "      <td>312 days</td>\n",
              "      <td>3147.0</td>\n",
              "    </tr>\n",
              "    <tr>\n",
              "      <th>19611</th>\n",
              "      <td>3499</td>\n",
              "      <td>7</td>\n",
              "      <td>Shelton</td>\n",
              "      <td>Tewkesberrie</td>\n",
              "      <td>Male</td>\n",
              "      <td>29</td>\n",
              "      <td>1979-06-17</td>\n",
              "      <td>missing</td>\n",
              "      <td>Manufacturing</td>\n",
              "      <td>Mass Customer</td>\n",
              "      <td>N</td>\n",
              "      <td>Yes</td>\n",
              "      <td>7.0</td>\n",
              "      <td>41.0</td>\n",
              "      <td>2794</td>\n",
              "      <td>62</td>\n",
              "      <td>2017-01-12</td>\n",
              "      <td>FALSE</td>\n",
              "      <td>Approved</td>\n",
              "      <td>Solex</td>\n",
              "      <td>Standard</td>\n",
              "      <td>medium</td>\n",
              "      <td>medium</td>\n",
              "      <td>478.16</td>\n",
              "      <td>298.72</td>\n",
              "      <td>1998-12-17</td>\n",
              "      <td>179.0</td>\n",
              "      <td>2017-12-30</td>\n",
              "      <td>352 days</td>\n",
              "      <td>4954.0</td>\n",
              "    </tr>\n",
              "    <tr>\n",
              "      <th>19619</th>\n",
              "      <td>3500</td>\n",
              "      <td>6</td>\n",
              "      <td>Josy</td>\n",
              "      <td>Fleeman</td>\n",
              "      <td>Female</td>\n",
              "      <td>71</td>\n",
              "      <td>1967-07-21</td>\n",
              "      <td>missing</td>\n",
              "      <td>Entertainment</td>\n",
              "      <td>Affluent Customer</td>\n",
              "      <td>N</td>\n",
              "      <td>No</td>\n",
              "      <td>17.0</td>\n",
              "      <td>53.0</td>\n",
              "      <td>8562</td>\n",
              "      <td>33</td>\n",
              "      <td>2017-08-08</td>\n",
              "      <td>FALSE</td>\n",
              "      <td>Approved</td>\n",
              "      <td>Giant Bicycles</td>\n",
              "      <td>Standard</td>\n",
              "      <td>medium</td>\n",
              "      <td>small</td>\n",
              "      <td>1311.44</td>\n",
              "      <td>1167.18</td>\n",
              "      <td>1992-10-11</td>\n",
              "      <td>144.0</td>\n",
              "      <td>2017-12-30</td>\n",
              "      <td>144 days</td>\n",
              "      <td>1785.0</td>\n",
              "    </tr>\n",
              "  </tbody>\n",
              "</table>\n",
              "<p>3492 rows × 30 columns</p>\n",
              "</div>"
            ],
            "text/plain": [
              "       customer_id  frequency      first_name  ...  constant_d   Recency  sum_profit\n",
              "0                1         11         Laraine  ...  2017-12-30    7 days      3018.0\n",
              "11               2          3             Eli  ...  2017-12-30  240 days      2226.0\n",
              "19               3          8           Arlin  ...  2017-12-30  281 days      3362.0\n",
              "22               4          2          Talbot  ...  2017-12-30  271 days       220.0\n",
              "29               5          6  Sheila-kathryn  ...  2017-12-30  246 days      2395.0\n",
              "...            ...        ...             ...  ...         ...       ...         ...\n",
              "19596         3496          4           Danya  ...  2017-12-30  256 days      2046.0\n",
              "19602         3497          3            Thia  ...  2017-12-30  109 days      1649.0\n",
              "19603         3498          6            Lois  ...  2017-12-30  312 days      3147.0\n",
              "19611         3499          7         Shelton  ...  2017-12-30  352 days      4954.0\n",
              "19619         3500          6            Josy  ...  2017-12-30  144 days      1785.0\n",
              "\n",
              "[3492 rows x 30 columns]"
            ]
          },
          "metadata": {
            "tags": []
          },
          "execution_count": 39
        }
      ]
    },
    {
      "cell_type": "code",
      "metadata": {
        "id": "_5gPxcymzNW1",
        "outputId": "6f2ab63b-92cd-4f64-e4d1-0f4144eb3b84",
        "colab": {
          "base_uri": "https://localhost:8080/",
          "height": 370
        }
      },
      "source": [
        "print(data_u.gender.value_counts())\n",
        "sns.countplot(x='gender',data=data_u)\n",
        "\n"
      ],
      "execution_count": 40,
      "outputs": [
        {
          "output_type": "stream",
          "text": [
            "Female    1759\n",
            "Male      1656\n",
            "U           77\n",
            "Name: gender, dtype: int64\n"
          ],
          "name": "stdout"
        },
        {
          "output_type": "execute_result",
          "data": {
            "text/plain": [
              "<matplotlib.axes._subplots.AxesSubplot at 0x7f9e2bed4ef0>"
            ]
          },
          "metadata": {
            "tags": []
          },
          "execution_count": 40
        },
        {
          "output_type": "display_data",
          "data": {
            "image/png": "[encoded data removed]",
            "text/plain": [
              "<Figure size 432x288 with 1 Axes>"
            ]
          },
          "metadata": {
            "tags": [],
            "needs_background": "light"
          }
        }
      ]
    },
    {
      "cell_type": "code",
      "metadata": {
        "id": "UfsP0sgR6fVG",
        "outputId": "a231c686-0724-4514-e552-b28667a4ace1",
        "colab": {
          "base_uri": "https://localhost:8080/",
          "height": 297
        }
      },
      "source": [
        "sns.countplot(y='job_industry_category',data=data_u)"
      ],
      "execution_count": 41,
      "outputs": [
        {
          "output_type": "execute_result",
          "data": {
            "text/plain": [
              "<matplotlib.axes._subplots.AxesSubplot at 0x7f9e2bf7f898>"
            ]
          },
          "metadata": {
            "tags": []
          },
          "execution_count": 41
        },
        {
          "output_type": "display_data",
          "data": {
            "image/png": "[encoded data removed]",
            "text/plain": [
              "<Figure size 432x288 with 1 Axes>"
            ]
          },
          "metadata": {
            "tags": [],
            "needs_background": "light"
          }
        }
      ]
    },
    {
      "cell_type": "code",
      "metadata": {
        "id": "mQ5PtToj62pZ",
        "outputId": "69ab4af5-ea42-4ef1-c7e2-66bfa3bc2d91",
        "colab": {
          "base_uri": "https://localhost:8080/",
          "height": 298
        }
      },
      "source": [
        "sns.countplot(x='wealth_segment',data=data_u)"
      ],
      "execution_count": 42,
      "outputs": [
        {
          "output_type": "execute_result",
          "data": {
            "text/plain": [
              "<matplotlib.axes._subplots.AxesSubplot at 0x7f9e2be3c828>"
            ]
          },
          "metadata": {
            "tags": []
          },
          "execution_count": 42
        },
        {
          "output_type": "display_data",
          "data": {
            "image/png": "[encoded data removed]",
            "text/plain": [
              "<Figure size 432x288 with 1 Axes>"
            ]
          },
          "metadata": {
            "tags": [],
            "needs_background": "light"
          }
        }
      ]
    },
    {
      "cell_type": "code",
      "metadata": {
        "id": "l8NYZ-YM8Oxt",
        "outputId": "1ab9f58a-ba80-4648-e7aa-8eaf871dc23e",
        "colab": {
          "base_uri": "https://localhost:8080/",
          "height": 199
        }
      },
      "source": [
        "#frequency columns tells the n.o of purchases did in 2017 year,\n",
        "#in 2017 females are done \n",
        "print(pd.DataFrame(data_u.groupby('gender')['frequency'].agg('sum')))\n",
        "\n",
        "print(pd.DataFrame(data_u.groupby('gender')['frequency'].agg('sum')/data_u.gender.value_counts()))\n",
        "#all the female coustmers are more but the coustmers belong to u category has a high probablity to purchase more than others comparing with the n.o of coustmers"
      ],
      "execution_count": 49,
      "outputs": [
        {
          "output_type": "stream",
          "text": [
            "        frequency\n",
            "gender           \n",
            "Female       9829\n",
            "Male         9349\n",
            "U             444\n",
            "               0\n",
            "gender          \n",
            "Female  5.587834\n",
            "Male    5.645531\n",
            "U       5.766234\n"
          ],
          "name": "stdout"
        }
      ]
    },
    {
      "cell_type": "code",
      "metadata": {
        "id": "hRe6jnaXEteG",
        "outputId": "cba1213f-4c55-4024-aec2-1bf6a914c91a",
        "colab": {
          "base_uri": "https://localhost:8080/",
          "height": 229
        }
      },
      "source": [
        "print(pd.DataFrame(data_u.groupby('wealth_segment')['frequency'].agg('sum')))\n",
        "\n",
        "\n",
        "pd.DataFrame(data_u.groupby('wealth_segment')['frequency'].agg('sum')/data_u.wealth_segment.value_counts())"
      ],
      "execution_count": 53,
      "outputs": [
        {
          "output_type": "stream",
          "text": [
            "                   frequency\n",
            "wealth_segment              \n",
            "Affluent Customer       4760\n",
            "High Net Worth          5007\n",
            "Mass Customer           9855\n"
          ],
          "name": "stdout"
        },
        {
          "output_type": "execute_result",
          "data": {
            "text/html": [
              "<div>\n",
              "<style scoped>\n",
              "    .dataframe tbody tr th:only-of-type {\n",
              "        vertical-align: middle;\n",
              "    }\n",
              "\n",
              "    .dataframe tbody tr th {\n",
              "        vertical-align: top;\n",
              "    }\n",
              "\n",
              "    .dataframe thead th {\n",
              "        text-align: right;\n",
              "    }\n",
              "</style>\n",
              "<table border=\"1\" class=\"dataframe\">\n",
              "  <thead>\n",
              "    <tr style=\"text-align: right;\">\n",
              "      <th></th>\n",
              "      <th>0</th>\n",
              "    </tr>\n",
              "  </thead>\n",
              "  <tbody>\n",
              "    <tr>\n",
              "      <th>Affluent Customer</th>\n",
              "      <td>5.600000</td>\n",
              "    </tr>\n",
              "    <tr>\n",
              "      <th>High Net Worth</th>\n",
              "      <td>5.594413</td>\n",
              "    </tr>\n",
              "    <tr>\n",
              "      <th>Mass Customer</th>\n",
              "      <td>5.641099</td>\n",
              "    </tr>\n",
              "  </tbody>\n",
              "</table>\n",
              "</div>"
            ],
            "text/plain": [
              "                          0\n",
              "Affluent Customer  5.600000\n",
              "High Net Worth     5.594413\n",
              "Mass Customer      5.641099"
            ]
          },
          "metadata": {
            "tags": []
          },
          "execution_count": 53
        }
      ]
    },
    {
      "cell_type": "code",
      "metadata": {
        "id": "_QM-MDgNF5RJ",
        "outputId": "86810513-c22e-4d4d-df10-5d541e74d887",
        "colab": {
          "base_uri": "https://localhost:8080/",
          "height": 348
        }
      },
      "source": [
        "sales = pd.DataFrame(data_u.groupby(['gender', 'wealth_segment']).frequency.sum())\n",
        "sales.rename(columns = {'frequency': 'tot_purchase_in2017'}, inplace = True)\n",
        "sales.sort_values(by = 'tot_purchase_in2017', ascending = False, inplace = True)\n",
        "sales"
      ],
      "execution_count": 55,
      "outputs": [
        {
          "output_type": "execute_result",
          "data": {
            "text/html": [
              "<div>\n",
              "<style scoped>\n",
              "    .dataframe tbody tr th:only-of-type {\n",
              "        vertical-align: middle;\n",
              "    }\n",
              "\n",
              "    .dataframe tbody tr th {\n",
              "        vertical-align: top;\n",
              "    }\n",
              "\n",
              "    .dataframe thead th {\n",
              "        text-align: right;\n",
              "    }\n",
              "</style>\n",
              "<table border=\"1\" class=\"dataframe\">\n",
              "  <thead>\n",
              "    <tr style=\"text-align: right;\">\n",
              "      <th></th>\n",
              "      <th></th>\n",
              "      <th>tot_purchase_in2017</th>\n",
              "    </tr>\n",
              "    <tr>\n",
              "      <th>gender</th>\n",
              "      <th>wealth_segment</th>\n",
              "      <th></th>\n",
              "    </tr>\n",
              "  </thead>\n",
              "  <tbody>\n",
              "    <tr>\n",
              "      <th>Female</th>\n",
              "      <th>Mass Customer</th>\n",
              "      <td>5039</td>\n",
              "    </tr>\n",
              "    <tr>\n",
              "      <th>Male</th>\n",
              "      <th>Mass Customer</th>\n",
              "      <td>4575</td>\n",
              "    </tr>\n",
              "    <tr>\n",
              "      <th>Female</th>\n",
              "      <th>High Net Worth</th>\n",
              "      <td>2470</td>\n",
              "    </tr>\n",
              "    <tr>\n",
              "      <th rowspan=\"2\" valign=\"top\">Male</th>\n",
              "      <th>High Net Worth</th>\n",
              "      <td>2424</td>\n",
              "    </tr>\n",
              "    <tr>\n",
              "      <th>Affluent Customer</th>\n",
              "      <td>2350</td>\n",
              "    </tr>\n",
              "    <tr>\n",
              "      <th>Female</th>\n",
              "      <th>Affluent Customer</th>\n",
              "      <td>2320</td>\n",
              "    </tr>\n",
              "    <tr>\n",
              "      <th rowspan=\"3\" valign=\"top\">U</th>\n",
              "      <th>Mass Customer</th>\n",
              "      <td>241</td>\n",
              "    </tr>\n",
              "    <tr>\n",
              "      <th>High Net Worth</th>\n",
              "      <td>113</td>\n",
              "    </tr>\n",
              "    <tr>\n",
              "      <th>Affluent Customer</th>\n",
              "      <td>90</td>\n",
              "    </tr>\n",
              "  </tbody>\n",
              "</table>\n",
              "</div>"
            ],
            "text/plain": [
              "                          tot_purchase_in2017\n",
              "gender wealth_segment                        \n",
              "Female Mass Customer                     5039\n",
              "Male   Mass Customer                     4575\n",
              "Female High Net Worth                    2470\n",
              "Male   High Net Worth                    2424\n",
              "       Affluent Customer                 2350\n",
              "Female Affluent Customer                 2320\n",
              "U      Mass Customer                      241\n",
              "       High Net Worth                     113\n",
              "       Affluent Customer                   90"
            ]
          },
          "metadata": {
            "tags": []
          },
          "execution_count": 55
        }
      ]
    },
    {
      "cell_type": "code",
      "metadata": {
        "id": "L-lrVaAGIPLT",
        "outputId": "a8b0f38d-28d6-4d1e-a988-f7e9040a36dd",
        "colab": {
          "base_uri": "https://localhost:8080/",
          "height": 348
        }
      },
      "source": [
        "sales1 = pd.DataFrame(data_u.groupby(['gender', 'wealth_segment']).past_3_years_bike_related_purchases.sum())\n",
        "sales1.sort_values(by = 'past_3_years_bike_related_purchases', ascending = False, inplace = True)\n",
        "sales1"
      ],
      "execution_count": 57,
      "outputs": [
        {
          "output_type": "execute_result",
          "data": {
            "text/html": [
              "<div>\n",
              "<style scoped>\n",
              "    .dataframe tbody tr th:only-of-type {\n",
              "        vertical-align: middle;\n",
              "    }\n",
              "\n",
              "    .dataframe tbody tr th {\n",
              "        vertical-align: top;\n",
              "    }\n",
              "\n",
              "    .dataframe thead th {\n",
              "        text-align: right;\n",
              "    }\n",
              "</style>\n",
              "<table border=\"1\" class=\"dataframe\">\n",
              "  <thead>\n",
              "    <tr style=\"text-align: right;\">\n",
              "      <th></th>\n",
              "      <th></th>\n",
              "      <th>past_3_years_bike_related_purchases</th>\n",
              "    </tr>\n",
              "    <tr>\n",
              "      <th>gender</th>\n",
              "      <th>wealth_segment</th>\n",
              "      <th></th>\n",
              "    </tr>\n",
              "  </thead>\n",
              "  <tbody>\n",
              "    <tr>\n",
              "      <th>Female</th>\n",
              "      <th>Mass Customer</th>\n",
              "      <td>43323</td>\n",
              "    </tr>\n",
              "    <tr>\n",
              "      <th>Male</th>\n",
              "      <th>Mass Customer</th>\n",
              "      <td>41401</td>\n",
              "    </tr>\n",
              "    <tr>\n",
              "      <th>Female</th>\n",
              "      <th>High Net Worth</th>\n",
              "      <td>21389</td>\n",
              "    </tr>\n",
              "    <tr>\n",
              "      <th rowspan=\"2\" valign=\"top\">Male</th>\n",
              "      <th>Affluent Customer</th>\n",
              "      <td>20582</td>\n",
              "    </tr>\n",
              "    <tr>\n",
              "      <th>High Net Worth</th>\n",
              "      <td>20513</td>\n",
              "    </tr>\n",
              "    <tr>\n",
              "      <th>Female</th>\n",
              "      <th>Affluent Customer</th>\n",
              "      <td>20075</td>\n",
              "    </tr>\n",
              "    <tr>\n",
              "      <th rowspan=\"3\" valign=\"top\">U</th>\n",
              "      <th>Mass Customer</th>\n",
              "      <td>1866</td>\n",
              "    </tr>\n",
              "    <tr>\n",
              "      <th>High Net Worth</th>\n",
              "      <td>803</td>\n",
              "    </tr>\n",
              "    <tr>\n",
              "      <th>Affluent Customer</th>\n",
              "      <td>488</td>\n",
              "    </tr>\n",
              "  </tbody>\n",
              "</table>\n",
              "</div>"
            ],
            "text/plain": [
              "                          past_3_years_bike_related_purchases\n",
              "gender wealth_segment                                        \n",
              "Female Mass Customer                                    43323\n",
              "Male   Mass Customer                                    41401\n",
              "Female High Net Worth                                   21389\n",
              "Male   Affluent Customer                                20582\n",
              "       High Net Worth                                   20513\n",
              "Female Affluent Customer                                20075\n",
              "U      Mass Customer                                     1866\n",
              "       High Net Worth                                     803\n",
              "       Affluent Customer                                  488"
            ]
          },
          "metadata": {
            "tags": []
          },
          "execution_count": 57
        }
      ]
    },
    {
      "cell_type": "code",
      "metadata": {
        "id": "bZIuC-uDJViR",
        "outputId": "7114c57e-4c4e-47c3-87ab-556ee9f03ab3",
        "colab": {
          "base_uri": "https://localhost:8080/",
          "height": 348
        }
      },
      "source": [
        "sales2 = pd.DataFrame(data_u.groupby(['gender', 'wealth_segment']).sum_profit.sum())\n",
        "sales2.sort_values(by = 'sum_profit', ascending = False, inplace = True)\n",
        "sales2"
      ],
      "execution_count": 58,
      "outputs": [
        {
          "output_type": "execute_result",
          "data": {
            "text/html": [
              "<div>\n",
              "<style scoped>\n",
              "    .dataframe tbody tr th:only-of-type {\n",
              "        vertical-align: middle;\n",
              "    }\n",
              "\n",
              "    .dataframe tbody tr th {\n",
              "        vertical-align: top;\n",
              "    }\n",
              "\n",
              "    .dataframe thead th {\n",
              "        text-align: right;\n",
              "    }\n",
              "</style>\n",
              "<table border=\"1\" class=\"dataframe\">\n",
              "  <thead>\n",
              "    <tr style=\"text-align: right;\">\n",
              "      <th></th>\n",
              "      <th></th>\n",
              "      <th>sum_profit</th>\n",
              "    </tr>\n",
              "    <tr>\n",
              "      <th>gender</th>\n",
              "      <th>wealth_segment</th>\n",
              "      <th></th>\n",
              "    </tr>\n",
              "  </thead>\n",
              "  <tbody>\n",
              "    <tr>\n",
              "      <th>Female</th>\n",
              "      <th>Mass Customer</th>\n",
              "      <td>2738660.0</td>\n",
              "    </tr>\n",
              "    <tr>\n",
              "      <th>Male</th>\n",
              "      <th>Mass Customer</th>\n",
              "      <td>2544251.0</td>\n",
              "    </tr>\n",
              "    <tr>\n",
              "      <th>Female</th>\n",
              "      <th>High Net Worth</th>\n",
              "      <td>1343431.0</td>\n",
              "    </tr>\n",
              "    <tr>\n",
              "      <th>Male</th>\n",
              "      <th>High Net Worth</th>\n",
              "      <td>1339546.0</td>\n",
              "    </tr>\n",
              "    <tr>\n",
              "      <th>Female</th>\n",
              "      <th>Affluent Customer</th>\n",
              "      <td>1298275.0</td>\n",
              "    </tr>\n",
              "    <tr>\n",
              "      <th>Male</th>\n",
              "      <th>Affluent Customer</th>\n",
              "      <td>1296274.0</td>\n",
              "    </tr>\n",
              "    <tr>\n",
              "      <th rowspan=\"3\" valign=\"top\">U</th>\n",
              "      <th>Mass Customer</th>\n",
              "      <td>150012.0</td>\n",
              "    </tr>\n",
              "    <tr>\n",
              "      <th>High Net Worth</th>\n",
              "      <td>64213.0</td>\n",
              "    </tr>\n",
              "    <tr>\n",
              "      <th>Affluent Customer</th>\n",
              "      <td>55994.0</td>\n",
              "    </tr>\n",
              "  </tbody>\n",
              "</table>\n",
              "</div>"
            ],
            "text/plain": [
              "                          sum_profit\n",
              "gender wealth_segment               \n",
              "Female Mass Customer       2738660.0\n",
              "Male   Mass Customer       2544251.0\n",
              "Female High Net Worth      1343431.0\n",
              "Male   High Net Worth      1339546.0\n",
              "Female Affluent Customer   1298275.0\n",
              "Male   Affluent Customer   1296274.0\n",
              "U      Mass Customer        150012.0\n",
              "       High Net Worth        64213.0\n",
              "       Affluent Customer     55994.0"
            ]
          },
          "metadata": {
            "tags": []
          },
          "execution_count": 58
        }
      ]
    },
    {
      "cell_type": "code",
      "metadata": {
        "id": "PVqVXA_7KsHj",
        "outputId": "ec29404a-0f1b-48e1-9611-1352c60b3002",
        "colab": {
          "base_uri": "https://localhost:8080/",
          "height": 437
        }
      },
      "source": [
        "sales4 = pd.DataFrame(data_u.groupby(['gender', 'wealth_segment','job_industry_category']).frequency.sum())\n",
        "sales4.rename(columns = {'frequency': 'tot_purchase_in2017'}, inplace = True)\n",
        "sales4.sort_values(by = 'tot_purchase_in2017', ascending = False, inplace = True)\n",
        "sales4"
      ],
      "execution_count": 59,
      "outputs": [
        {
          "output_type": "execute_result",
          "data": {
            "text/html": [
              "<div>\n",
              "<style scoped>\n",
              "    .dataframe tbody tr th:only-of-type {\n",
              "        vertical-align: middle;\n",
              "    }\n",
              "\n",
              "    .dataframe tbody tr th {\n",
              "        vertical-align: top;\n",
              "    }\n",
              "\n",
              "    .dataframe thead th {\n",
              "        text-align: right;\n",
              "    }\n",
              "</style>\n",
              "<table border=\"1\" class=\"dataframe\">\n",
              "  <thead>\n",
              "    <tr style=\"text-align: right;\">\n",
              "      <th></th>\n",
              "      <th></th>\n",
              "      <th></th>\n",
              "      <th>tot_purchase_in2017</th>\n",
              "    </tr>\n",
              "    <tr>\n",
              "      <th>gender</th>\n",
              "      <th>wealth_segment</th>\n",
              "      <th>job_industry_category</th>\n",
              "      <th></th>\n",
              "    </tr>\n",
              "  </thead>\n",
              "  <tbody>\n",
              "    <tr>\n",
              "      <th>Female</th>\n",
              "      <th>Mass Customer</th>\n",
              "      <th>Manufacturing</th>\n",
              "      <td>1052</td>\n",
              "    </tr>\n",
              "    <tr>\n",
              "      <th rowspan=\"2\" valign=\"top\">Male</th>\n",
              "      <th rowspan=\"2\" valign=\"top\">Mass Customer</th>\n",
              "      <th>Manufacturing</th>\n",
              "      <td>933</td>\n",
              "    </tr>\n",
              "    <tr>\n",
              "      <th>Financial Services</th>\n",
              "      <td>927</td>\n",
              "    </tr>\n",
              "    <tr>\n",
              "      <th rowspan=\"2\" valign=\"top\">Female</th>\n",
              "      <th rowspan=\"2\" valign=\"top\">Mass Customer</th>\n",
              "      <th>Financial Services</th>\n",
              "      <td>904</td>\n",
              "    </tr>\n",
              "    <tr>\n",
              "      <th>missing</th>\n",
              "      <td>904</td>\n",
              "    </tr>\n",
              "    <tr>\n",
              "      <th>...</th>\n",
              "      <th>...</th>\n",
              "      <th>...</th>\n",
              "      <td>...</td>\n",
              "    </tr>\n",
              "    <tr>\n",
              "      <th rowspan=\"5\" valign=\"top\">U</th>\n",
              "      <th>High Net Worth</th>\n",
              "      <th>Financial Services</th>\n",
              "      <td>10</td>\n",
              "    </tr>\n",
              "    <tr>\n",
              "      <th>Affluent Customer</th>\n",
              "      <th>Health</th>\n",
              "      <td>7</td>\n",
              "    </tr>\n",
              "    <tr>\n",
              "      <th>High Net Worth</th>\n",
              "      <th>Health</th>\n",
              "      <td>5</td>\n",
              "    </tr>\n",
              "    <tr>\n",
              "      <th>Mass Customer</th>\n",
              "      <th>Manufacturing</th>\n",
              "      <td>4</td>\n",
              "    </tr>\n",
              "    <tr>\n",
              "      <th>Affluent Customer</th>\n",
              "      <th>Financial Services</th>\n",
              "      <td>3</td>\n",
              "    </tr>\n",
              "  </tbody>\n",
              "</table>\n",
              "<p>71 rows × 1 columns</p>\n",
              "</div>"
            ],
            "text/plain": [
              "                                                tot_purchase_in2017\n",
              "gender wealth_segment    job_industry_category                     \n",
              "Female Mass Customer     Manufacturing                         1052\n",
              "Male   Mass Customer     Manufacturing                          933\n",
              "                         Financial Services                     927\n",
              "Female Mass Customer     Financial Services                     904\n",
              "                         missing                                904\n",
              "...                                                             ...\n",
              "U      High Net Worth    Financial Services                      10\n",
              "       Affluent Customer Health                                   7\n",
              "       High Net Worth    Health                                   5\n",
              "       Mass Customer     Manufacturing                            4\n",
              "       Affluent Customer Financial Services                       3\n",
              "\n",
              "[71 rows x 1 columns]"
            ]
          },
          "metadata": {
            "tags": []
          },
          "execution_count": 59
        }
      ]
    }
  ]
}